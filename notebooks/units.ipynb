{
 "cells": [
  {
   "cell_type": "markdown",
   "metadata": {},
   "source": [
    "# STEPS units helper functions\n",
    "\n",
    "Helper functions to convert between the conventions used in STEPS\n",
    "and those used in appendix A of https://link.springer.com/978-3-319-63113-4"
   ]
  },
  {
   "cell_type": "markdown",
   "metadata": {},
   "source": [
    "## Convert between STEPS concentration (mol/litre) and population count"
   ]
  },
  {
   "cell_type": "code",
   "execution_count": 1,
   "metadata": {},
   "outputs": [],
   "source": [
    "# convert STEPS concentration (mol/litre) in specified volume (m^3) to a count of molecules\n",
    "def get_count(concentration, volume):\n",
    "    A = 6.02214076e23  # Avogadro number: molecules in 1 mol\n",
    "    litres = 1e3 * volume\n",
    "    return A * concentration * litres\n",
    "\n",
    "\n",
    "# convert count of molecules to a STEPS concentration (mol/litre) in specified volume (m^3)\n",
    "def get_concentration(count, volume):\n",
    "    A = 6.02214076e23  # Avogadro number: molecules in 1 mol\n",
    "    mols = count / A\n",
    "    litres = 1e3 * volume\n",
    "    return mols / litres"
   ]
  },
  {
   "cell_type": "markdown",
   "metadata": {},
   "source": [
    "## Convert between STEPS `kcst` ($M^{1-n}s^{-1}$) and population stochastic reaction rate $c$ in a given volume ($s^{-1}$)"
   ]
  },
  {
   "cell_type": "markdown",
   "metadata": {},
   "source": [
    "The propensity for a reaction $j$ in https://link.springer.com/978-3-319-63113-4 is given by\n",
    "\n",
    "$a_j(x) = c_j h_j(x)$,\n",
    "\n",
    "$h_j(x) = \\prod_i x_i!/[v_{ji}^{-}!(x_i - v_{ji}^{-})!]$, where\n",
    "- $c_j$ has units of $s^{-1}$\n",
    "- $x_i$ is the *number* of molecules of type $i$ currently in the system\n",
    "- $v_{ji}^{-}$ is the number of molecules of type $i$ on the left hand side of reaction $j$.\n",
    "\n",
    "In STEPS, the propensity is given by\n",
    "\n",
    "$a_j(x) = k_j h_j(x)$,\n",
    "\n",
    "$h_j(x) = \\prod_i x_i!/[(x_i - v_{ji}^{-})!]$, where\n",
    "\n",
    "- $k_j$ is the parameter `kcst` for the reaction $j$, which has units $M^{1-v_j}s^{-1}$\n",
    "- $x_i$ is the *concentration* ($M$ = mol/litre) of molecules of type $i$ currently in the system\n",
    "- $v_j \\equiv \\sum_i v_{ji}$ is the order of the reaction\n",
    "\n",
    "So comparing the two, to convert from $c$ to `kcst` we need a multiplicative factor to compensate for both the different units and the missing factorial factor in the definition of $h$:"
   ]
  },
  {
   "cell_type": "code",
   "execution_count": 2,
   "metadata": {},
   "outputs": [],
   "source": [
    "def get_rate_conversion_factor(lhs_molecule_list, volume):\n",
    "    import numpy as np\n",
    "\n",
    "    # Avogadro number: molecules in 1 mol\n",
    "    A = 6.02214076e23\n",
    "    litres = 1e3 * volume\n",
    "    # get order of reaction\n",
    "    order = len(lhs_molecule_list)\n",
    "    # get factorial factor\n",
    "    counts = dict()\n",
    "    factorial_factor = 1\n",
    "    for lhs in lhs_molecule_list:\n",
    "        counts[lhs] = counts.get(lhs, 0) + 1\n",
    "        factorial_factor *= counts[lhs]\n",
    "    return factorial_factor * np.power(A * litres, 1 - order)\n",
    "\n",
    "\n",
    "# convert stochastic reaction rate in specified volume to STEPS kcst\n",
    "def get_kcst(stoch_rate_c, lhs_molecule_list, volume):\n",
    "    factor = get_rate_conversion_factor(lhs_molecule_list, volume)\n",
    "    return stoch_rate_c / factor\n",
    "\n",
    "\n",
    "# convert STEPS kcst to stochastic reaction rate in specified volume\n",
    "def get_stoch_rate(stoch_rate_kcst, order, volume):\n",
    "    factor = get_rate_conversion_factor(lhs_molecule_list, volume)\n",
    "    return stoch_rate_kcst * factor"
   ]
  },
  {
   "cell_type": "markdown",
   "metadata": {},
   "source": [
    "## Tests\n",
    "\n",
    "We create a model to check the conversion functions are working"
   ]
  },
  {
   "cell_type": "code",
   "execution_count": 3,
   "metadata": {},
   "outputs": [],
   "source": [
    "import steps.geom as swm\n",
    "import steps.model as smodel\n",
    "import steps.rng as srng\n",
    "import steps.solver as ssolver\n",
    "\n",
    "mdl = smodel.Model()\n",
    "vsys = smodel.Volsys('vsys', mdl)\n",
    "\n",
    "molS = smodel.Spec('S', mdl)\n",
    "molT = smodel.Spec('T', mdl)\n",
    "molU = smodel.Spec('U', mdl)\n",
    "\n",
    "\n",
    "# some reactions from p13, example 2.3 of https://link.springer.com/978-3-319-63113-4\n",
    "kreac_synthesis = smodel.Reac('kreac_synthesis', vsys, lhs=[], rhs=[molS])\n",
    "kreac_unimolecular = smodel.Reac('kreac_unimolecular', vsys, lhs=[molS], rhs=[molT])\n",
    "kreac_bimolecular = smodel.Reac('kreac_bimolecular', vsys, lhs=[molS, molT], rhs=[molU])\n",
    "kreac_dimerization = smodel.Reac(\n",
    "    'kreac_dimerization', vsys, lhs=[molS, molS], rhs=[molT]\n",
    ")\n",
    "kreac_polymerization = smodel.Reac(\n",
    "    'kreac_polymerization', vsys, lhs=[molT, molT, molT], rhs=[molU]\n",
    ")\n",
    "kreac_termomolecular = smodel.Reac(\n",
    "    'kreac_termomolecular', vsys, lhs=[molS, molT, molT], rhs=[molU]\n",
    ")\n",
    "\n",
    "wmgeom = swm.Geom()\n",
    "comp = swm.Comp('comp', wmgeom)\n",
    "comp.addVolsys('vsys')\n",
    "comp.setVol(1e-20)\n",
    "\n",
    "rng = srng.create('mt19937', 256)\n",
    "\n",
    "solver = ssolver.Wmdirect(mdl, wmgeom, rng)"
   ]
  },
  {
   "cell_type": "markdown",
   "metadata": {},
   "source": [
    "### Check of count <--> concentration conversions"
   ]
  },
  {
   "cell_type": "code",
   "execution_count": 4,
   "metadata": {},
   "outputs": [],
   "source": [
    "solver.reset()\n",
    "volume = 1.123e-21\n",
    "solver.setCompVol('comp', volume)"
   ]
  },
  {
   "cell_type": "markdown",
   "metadata": {},
   "source": [
    "count -> concentration:"
   ]
  },
  {
   "cell_type": "code",
   "execution_count": 5,
   "metadata": {},
   "outputs": [
    {
     "name": "stdout",
     "output_type": "stream",
     "text": [
      "desired count:\t100.000000\n",
      "actual count:\t100.000000\n"
     ]
    }
   ],
   "source": [
    "count = 100\n",
    "concentration = get_concentration(count, volume)\n",
    "solver.setCompConc('comp', 'S', concentration)\n",
    "print(\"desired count:\\t%f\" % count)\n",
    "print(\"actual count:\\t%f\" % solver.getCompCount('comp', 'S'))"
   ]
  },
  {
   "cell_type": "markdown",
   "metadata": {},
   "source": [
    "concentration -> count:"
   ]
  },
  {
   "cell_type": "code",
   "execution_count": 6,
   "metadata": {},
   "outputs": [
    {
     "name": "stdout",
     "output_type": "stream",
     "text": [
      "desired concentration:\t0.234100\n",
      "actual concentration:\t0.234100\n"
     ]
    }
   ],
   "source": [
    "concentration = 0.2341\n",
    "count = get_count(concentration, volume)\n",
    "solver.setCompCount('comp', 'S', count)\n",
    "print(\"desired concentration:\\t%f\" % concentration)\n",
    "print(\"actual concentration:\\t%f\" % solver.getCompConc('comp', 'S'))"
   ]
  },
  {
   "cell_type": "markdown",
   "metadata": {},
   "source": [
    "### Check of stochastic rate -> `kcst` conversion"
   ]
  },
  {
   "cell_type": "code",
   "execution_count": 7,
   "metadata": {},
   "outputs": [],
   "source": [
    "volume = 3.44e-22\n",
    "solver.setCompVol('comp', volume)"
   ]
  },
  {
   "cell_type": "markdown",
   "metadata": {},
   "source": [
    "Synthesis: $\\emptyset \\rightarrow S$"
   ]
  },
  {
   "cell_type": "code",
   "execution_count": 8,
   "metadata": {},
   "outputs": [
    {
     "name": "stdout",
     "output_type": "stream",
     "text": [
      "count\tdesired a\tactual a\n",
      "0\t0.126400\t0.126400\n",
      "1\t0.126400\t0.126400\n",
      "2\t0.126400\t0.126400\n",
      "3\t0.126400\t0.126400\n",
      "100\t0.126400\t0.126400\n"
     ]
    }
   ],
   "source": [
    "def a_synthesis(count, c):\n",
    "    return c\n",
    "\n",
    "\n",
    "c = 0.1264\n",
    "k = get_kcst(c, [], volume)\n",
    "solver.reset()\n",
    "solver.setCompReacK('comp', 'kreac_synthesis', k)\n",
    "print(\"count\\tdesired a\\tactual a\")\n",
    "for count in [0, 1, 2, 3, 100]:\n",
    "    solver.setCompCount('comp', 'S', count)\n",
    "    print(\n",
    "        \"%d\\t%f\\t%f\"\n",
    "        % (count, a_synthesis(count, c), solver.getCompReacA('comp', 'kreac_synthesis'))\n",
    "    )"
   ]
  },
  {
   "cell_type": "markdown",
   "metadata": {},
   "source": [
    "Unimolecular: $S \\rightarrow T$"
   ]
  },
  {
   "cell_type": "code",
   "execution_count": 9,
   "metadata": {},
   "outputs": [
    {
     "name": "stdout",
     "output_type": "stream",
     "text": [
      "count\tdesired a\tactual a\n",
      "0\t0.000000\t0.000000\n",
      "1\t0.568540\t0.568540\n",
      "2\t1.137080\t1.137080\n",
      "3\t1.705620\t1.705620\n",
      "100\t56.854000\t56.854000\n"
     ]
    }
   ],
   "source": [
    "def a_unimolecular(count, c):\n",
    "    return count * c\n",
    "\n",
    "\n",
    "c = 0.56854\n",
    "k = get_kcst(c, ['S'], volume)\n",
    "solver.reset()\n",
    "solver.setCompReacK('comp', 'kreac_unimolecular', k)\n",
    "print(\"count\\tdesired a\\tactual a\")\n",
    "for count in [0, 1, 2, 3, 100]:\n",
    "    solver.setCompCount('comp', 'S', count)\n",
    "    print(\n",
    "        \"%d\\t%f\\t%f\"\n",
    "        % (\n",
    "            count,\n",
    "            a_unimolecular(count, c),\n",
    "            solver.getCompReacA('comp', 'kreac_unimolecular'),\n",
    "        )\n",
    "    )"
   ]
  },
  {
   "cell_type": "markdown",
   "metadata": {},
   "source": [
    "Bimolecular: $S + T \\rightarrow U$"
   ]
  },
  {
   "cell_type": "code",
   "execution_count": 10,
   "metadata": {},
   "outputs": [
    {
     "name": "stdout",
     "output_type": "stream",
     "text": [
      "count S\tcount T\tdesired a\tactual a\n",
      "0\t0\t0.000000\t0.000000\n",
      "0\t1\t0.000000\t0.000000\n",
      "0\t2\t0.000000\t0.000000\n",
      "0\t3\t0.000000\t0.000000\n",
      "0\t100\t0.000000\t0.000000\n",
      "1\t0\t0.000000\t0.000000\n",
      "1\t1\t3.568540\t3.568539\n",
      "1\t2\t7.137080\t7.137079\n",
      "1\t3\t10.705620\t10.705618\n",
      "1\t100\t356.854000\t356.853939\n",
      "2\t0\t0.000000\t0.000000\n",
      "2\t1\t7.137080\t7.137079\n",
      "2\t2\t14.274160\t14.274158\n",
      "2\t3\t21.411240\t21.411236\n",
      "2\t100\t713.708000\t713.707878\n",
      "3\t0\t0.000000\t0.000000\n",
      "3\t1\t10.705620\t10.705618\n",
      "3\t2\t21.411240\t21.411236\n",
      "3\t3\t32.116860\t32.116855\n",
      "3\t100\t1070.562000\t1070.561817\n",
      "100\t0\t0.000000\t0.000000\n",
      "100\t1\t356.854000\t356.853939\n",
      "100\t2\t713.708000\t713.707878\n",
      "100\t3\t1070.562000\t1070.561817\n",
      "100\t100\t35685.400000\t35685.393897\n"
     ]
    }
   ],
   "source": [
    "def a_bimolecular(countS, countT, c):\n",
    "    return countS * countT * c\n",
    "\n",
    "\n",
    "c = 3.56854\n",
    "k = get_kcst(c, ['S', 'T'], volume)\n",
    "solver.reset()\n",
    "solver.setCompReacK('comp', 'kreac_bimolecular', k)\n",
    "print(\"count S\\tcount T\\tdesired a\\tactual a\")\n",
    "for countS in [0, 1, 2, 3, 100]:\n",
    "    for countT in [0, 1, 2, 3, 100]:\n",
    "        solver.setCompCount('comp', 'S', countS)\n",
    "        solver.setCompCount('comp', 'T', countT)\n",
    "        print(\n",
    "            \"%d\\t%d\\t%f\\t%f\"\n",
    "            % (\n",
    "                countS,\n",
    "                countT,\n",
    "                a_bimolecular(countS, countT, c),\n",
    "                solver.getCompReacA('comp', 'kreac_bimolecular'),\n",
    "            )\n",
    "        )"
   ]
  },
  {
   "cell_type": "markdown",
   "metadata": {},
   "source": [
    "Dimerization: $2S \\rightarrow T$"
   ]
  },
  {
   "cell_type": "code",
   "execution_count": 11,
   "metadata": {},
   "outputs": [
    {
     "name": "stdout",
     "output_type": "stream",
     "text": [
      "count\tdesired a\tactual a\n",
      "0\t0.000000\t0.000000\n",
      "1\t0.000000\t0.000000\n",
      "2\t0.331259\t0.331259\n",
      "3\t0.993776\t0.993776\n",
      "100\t1639.729914\t1639.729634\n"
     ]
    }
   ],
   "source": [
    "def a_dimerization(count, c):\n",
    "    return count * (count - 1) * c / 2\n",
    "\n",
    "\n",
    "c = 0.3312585685678\n",
    "k = get_kcst(c, ['S', 'S'], volume)\n",
    "solver.reset()\n",
    "solver.setCompReacK('comp', 'kreac_dimerization', k)\n",
    "print(\"count\\tdesired a\\tactual a\")\n",
    "for count in [0, 1, 2, 3, 100]:\n",
    "    solver.setCompCount('comp', 'S', count)\n",
    "    print(\n",
    "        \"%d\\t%f\\t%f\"\n",
    "        % (\n",
    "            count,\n",
    "            a_dimerization(count, c),\n",
    "            solver.getCompReacA('comp', 'kreac_dimerization'),\n",
    "        )\n",
    "    )"
   ]
  },
  {
   "cell_type": "markdown",
   "metadata": {},
   "source": [
    "Polymerization: $3T \\rightarrow U$"
   ]
  },
  {
   "cell_type": "code",
   "execution_count": 12,
   "metadata": {},
   "outputs": [
    {
     "name": "stdout",
     "output_type": "stream",
     "text": [
      "count\tdesired a\tactual a\n",
      "0\t0.000000\t0.000000\n",
      "1\t0.000000\t0.000000\n",
      "2\t0.000000\t0.000000\n",
      "3\t0.467836\t0.467835\n",
      "100\t75649.020485\t75648.994608\n"
     ]
    }
   ],
   "source": [
    "def a_polymerization(count, c):\n",
    "    return count * (count - 1) * (count - 2) * c / 6\n",
    "\n",
    "\n",
    "c = 0.467835624523\n",
    "k = get_kcst(c, ['T', 'T', 'T'], volume)\n",
    "solver.reset()\n",
    "solver.setCompReacK('comp', 'kreac_polymerization', k)\n",
    "print(\"count\\tdesired a\\tactual a\")\n",
    "for count in [0, 1, 2, 3, 100]:\n",
    "    solver.setCompCount('comp', 'T', count)\n",
    "    print(\n",
    "        \"%d\\t%f\\t%f\"\n",
    "        % (\n",
    "            count,\n",
    "            a_polymerization(count, c),\n",
    "            solver.getCompReacA('comp', 'kreac_polymerization'),\n",
    "        )\n",
    "    )"
   ]
  },
  {
   "cell_type": "markdown",
   "metadata": {},
   "source": [
    "Termolecular: $S + 2T \\rightarrow U$"
   ]
  },
  {
   "cell_type": "code",
   "execution_count": 13,
   "metadata": {},
   "outputs": [
    {
     "name": "stdout",
     "output_type": "stream",
     "text": [
      "count S\tcount T\tdesired a\tactual a\n",
      "0\t0\t0.000000\t0.000000\n",
      "0\t1\t0.000000\t0.000000\n",
      "0\t2\t0.000000\t0.000000\n",
      "0\t3\t0.000000\t0.000000\n",
      "0\t100\t0.000000\t0.000000\n",
      "1\t0\t0.000000\t0.000000\n",
      "1\t1\t0.000000\t0.000000\n",
      "1\t2\t2.467536\t2.467535\n",
      "1\t3\t7.402609\t7.402606\n",
      "1\t100\t12214.304403\t12214.300225\n",
      "2\t0\t0.000000\t0.000000\n",
      "2\t1\t0.000000\t0.000000\n",
      "2\t2\t4.935072\t4.935071\n",
      "2\t3\t14.805217\t14.805212\n",
      "2\t100\t24428.608807\t24428.600450\n",
      "3\t0\t0.000000\t0.000000\n",
      "3\t1\t0.000000\t0.000000\n",
      "3\t2\t7.402609\t7.402606\n",
      "3\t3\t22.207826\t22.207819\n",
      "3\t100\t36642.913210\t36642.900676\n",
      "100\t0\t0.000000\t0.000000\n",
      "100\t1\t0.000000\t0.000000\n",
      "100\t2\t246.753624\t246.753540\n",
      "100\t3\t740.260873\t740.260620\n",
      "100\t100\t1221430.440335\t1221430.022519\n"
     ]
    }
   ],
   "source": [
    "def a_termolecular(countS, countT, c):\n",
    "    return countS * countT * (countT - 1) * c / 2\n",
    "\n",
    "\n",
    "c = 2.4675362431\n",
    "k = get_kcst(c, ['S', 'T', 'T'], volume)\n",
    "solver.reset()\n",
    "solver.setCompReacK('comp', 'kreac_termomolecular', k)\n",
    "print(\"count S\\tcount T\\tdesired a\\tactual a\")\n",
    "for countS in [0, 1, 2, 3, 100]:\n",
    "    for countT in [0, 1, 2, 3, 100]:\n",
    "        solver.setCompCount('comp', 'S', countS)\n",
    "        solver.setCompCount('comp', 'T', countT)\n",
    "        print(\n",
    "            \"%d\\t%d\\t%f\\t%f\"\n",
    "            % (\n",
    "                countS,\n",
    "                countT,\n",
    "                a_termolecular(countS, countT, c),\n",
    "                solver.getCompReacA('comp', 'kreac_termomolecular'),\n",
    "            )\n",
    "        )"
   ]
  },
  {
   "cell_type": "code",
   "execution_count": null,
   "metadata": {},
   "outputs": [],
   "source": []
  }
 ],
 "metadata": {
  "kernelspec": {
   "display_name": "Python 3",
   "language": "python",
   "name": "python3"
  },
  "language_info": {
   "codemirror_mode": {
    "name": "ipython",
    "version": 3
   },
   "file_extension": ".py",
   "mimetype": "text/x-python",
   "name": "python",
   "nbconvert_exporter": "python",
   "pygments_lexer": "ipython3",
   "version": "3.7.0"
  }
 },
 "nbformat": 4,
 "nbformat_minor": 2
}
