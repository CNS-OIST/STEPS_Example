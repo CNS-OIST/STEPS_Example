{
 "cells": [
  {
   "cell_type": "markdown",
   "metadata": {},
   "source": [
    "# OCNC2017 STEPS Tutorial Execise"
   ]
  },
  {
   "cell_type": "markdown",
   "metadata": {},
   "source": [
    "In this notebook we will try to create a STEPS simulation script from scratch by modifying the examples given in the tutorial. Please follow the tutor's instruction step by step."
   ]
  },
  {
   "cell_type": "markdown",
   "metadata": {},
   "source": [
    "## Build a biochemical model\n",
    "\n",
    "Here is the example of a 2nd order reaction $A+B\\overset{k}{\\rightarrow}C$, where the reaction constant $k$ is set to 200 /uM.s:"
   ]
  },
  {
   "cell_type": "code",
   "execution_count": 1,
   "metadata": {
    "collapsed": true
   },
   "outputs": [],
   "source": [
    "# Import biochemical model module\n",
    "import steps.model as smod\n",
    "\n",
    "# Create model container\n",
    "mdl = smod.Model()\n",
    "\n",
    "# Create chemical species\n",
    "A = smod.Spec('A', mdl)\n",
    "B = smod.Spec('B', mdl)\n",
    "C = smod.Spec('C', mdl)\n",
    "\n",
    "# Create reaction set container\n",
    "vsys = smod.Volsys('vsys', mdl)\n",
    "\n",
    "# Create reaction\n",
    "# A + B - > C with rate 200 /uM.s\n",
    "reac_f = smod.Reac('reac_f', vsys, lhs=[A,B], rhs = [C])\n",
    "reac_f.setKcst(200e6)"
   ]
  },
  {
   "cell_type": "markdown",
   "metadata": {},
   "source": [
    "For complex model, we can break it down into elementary reactions, for example, the following model\n",
    "\n",
    "$E+S\\underset{k_{-1}}{\\overset{k_{1}}{\\rightleftarrows}}ES\\overset{k_{2}}{\\rightarrow}E+P$\n",
    "\n",
    "is broken down into 3 reactions in STEPS\n",
    "\n",
    "1: $E+S\\overset{k_{1}}{\\rightarrow}ES$\n",
    "\n",
    "2: $ES\\overset{k_{-1}}{\\rightarrow}E+S$\n",
    "\n",
    "3: $ES\\overset{k_{2}}{\\rightarrow}E+P$\n"
   ]
  },
  {
   "cell_type": "markdown",
   "metadata": {},
   "source": [
    "### Execise 1: Create a kinase reaction model in STEPS\n",
    "\n",
    "Modify the script below for this kinase reaction system:\n",
    "\n",
    "$MEKp+ERK\\underset{0.6}{\\overset{16.2*10^{6}}{\\rightleftarrows}}MEKpERK\\overset{0.15}{\\rightarrow}MEKp+ERKp$\n",
    "\n",
    "**Hint**: Break it down in to these elementary reactions\n",
    "\n",
    "1: $MEKp+ERK\\overset{16.2*10^{6}}{\\rightarrow}MEKpERK$\n",
    "\n",
    "2: $MEKpERK\\overset{0.6}{\\rightarrow}MEKp+ERK$\n",
    "\n",
    "3: $MEKpERK\\overset{0.15}{\\rightarrow}MEKp+ERKp$"
   ]
  },
  {
   "cell_type": "code",
   "execution_count": 2,
   "metadata": {
    "collapsed": true
   },
   "outputs": [],
   "source": [
    "# Import biochemical model module\n",
    "import steps.model as smod\n",
    "\n",
    "# Create model container\n",
    "execise_mdl = smod.Model()\n",
    "\n",
    "# Create chemical species\n",
    "MEKp = smod.Spec('MEKp', execise_mdl)\n",
    "ERK = smod.Spec('ERK', execise_mdl)\n",
    "MEKpERK = smod.Spec('MEKpERK', execise_mdl)\n",
    "ERKp = smod.Spec('ERKp', execise_mdl)\n",
    "\n",
    "# Create reaction set container (volume system)\n",
    "execise_vsys = smod.Volsys('execise_vsys', execise_mdl)\n",
    "\n",
    "# Create reactions (Do it yourself)\n",
    "# MEKp + ERK -> MEKpERK, rate constant 16.2*10e6\n",
    "\n",
    "# MEKpERK -> MEKp + ERK, rate constant 0.6\n",
    "\n",
    "# MEKpERK -> MEKp + ERKp, rate constant 0.15\n"
   ]
  },
  {
   "cell_type": "markdown",
   "metadata": {},
   "source": [
    "## Setup geometry\n",
    "\n",
    "You can easily setup the geometry of a well-mixed model by providing the volume of the geometry as well as the voume system it associated with."
   ]
  },
  {
   "cell_type": "code",
   "execution_count": 3,
   "metadata": {
    "collapsed": true
   },
   "outputs": [],
   "source": [
    "# Import geometry module\n",
    "import steps.geom as sgeom\n",
    "\n",
    "# Create well-mixed geometry container\n",
    "wmgeom = sgeom.Geom()\n",
    "\n",
    "# Create cytosol compartment\n",
    "cyt = sgeom.Comp('cyt', wmgeom)\n",
    "\n",
    "# Give volume to cyt (1um^3)\n",
    "cyt.setVol(1.0e-18)\n",
    "\n",
    "# Assign reaction set to compartment\n",
    "cyt.addVolsys('vsys')"
   ]
  },
  {
   "cell_type": "markdown",
   "metadata": {},
   "source": [
    "## Create a random number generator\n",
    "\n",
    "You can use the follow code to create a random number generator for the simulation, currently available generators are \"mt19937\" and \"r123\"."
   ]
  },
  {
   "cell_type": "code",
   "execution_count": 4,
   "metadata": {
    "collapsed": true
   },
   "outputs": [],
   "source": [
    "# Import random number generator module\n",
    "import steps.rng as srng\n",
    "\n",
    "# Create random number generator, with buffer size as 256\n",
    "r = srng.create('mt19937', 256)\n",
    "\n",
    "# Initialise with some seed\n",
    "r.initialize(899)\n",
    "\n",
    "# Could use time to get random seed\n",
    "#import time\n",
    "#r.initialize(int(time.time()))"
   ]
  },
  {
   "cell_type": "markdown",
   "metadata": {},
   "source": [
    "### Execise 2: Create the geometry and random number generator for the kinase reaction model\n",
    "    \n",
    "Let's continue our kinase reaction simulation script, here are the tasks:\n",
    "1. Create a compartment of $0.1um^{3}$ (note that STEPS uses S.I units)\n",
    "2. Associate the compartment with the volume system we've previously created\n",
    "3. Create a \"r123\" random number generator and initialize it with with some seed"
   ]
  },
  {
   "cell_type": "code",
   "execution_count": 5,
   "metadata": {
    "collapsed": true
   },
   "outputs": [],
   "source": [
    "# Import biochemical model module\n",
    "import steps.model as smod\n",
    "\n",
    "# Create model container\n",
    "execise_mdl = smod.Model()\n",
    "\n",
    "# Create chemical species\n",
    "MEKp = smod.Spec('MEKp', execise_mdl)\n",
    "ERK = smod.Spec('ERK', execise_mdl)\n",
    "MEKpERK = smod.Spec('MEKpERK', execise_mdl)\n",
    "ERKp = smod.Spec('ERKp', execise_mdl)\n",
    "\n",
    "# Create reaction set container (volume system)\n",
    "execise_vsys = smod.Volsys('execise_vsys', execise_mdl)\n",
    "\n",
    "# Create reactions (Do it yourself)\n",
    "# MEKp + ERK -> MEKpERK, rate constant 16.2*10e6\n",
    "MEKp_ERK_to_MEKpERK = smod.Reac('MEKp_ERK_to_MEKpERK', execise_vsys, lhs=[MEKp,ERK], rhs = [MEKpERK])\n",
    "MEKp_ERK_to_MEKpERK.setKcst(16.2e6)\n",
    "# MEKpERK -> MEKp + ERK, rate constant 0.6\n",
    "MEKpERK_to_MEKp_ERK = smod.Reac('MEKpERK_to_MEKp_ERK', execise_vsys, lhs = [MEKpERK], rhs=[MEKp,ERK])\n",
    "MEKpERK_to_MEKp_ERK.setKcst(0.6)\n",
    "# MEKpERK -> MEKp + ERKp, rate constant 0.15\n",
    "MEKpERK_to_MEKp_ERKp = smod.Reac('MEKpERK_to_MEKp_ERKp', execise_vsys, lhs = [MEKpERK], rhs=[MEKp,ERKp])\n",
    "MEKpERK_to_MEKp_ERKp.setKcst(0.15)\n",
    "\n",
    "####### You script after execise 1 should look like above #######\n",
    "\n",
    "# Create a compartment of  0.1um^3\n",
    "\n",
    "# Associate the compartment with the volume system 'vsys'\n",
    "\n",
    "# Create and initialize a 'r123' random number generator\n"
   ]
  },
  {
   "cell_type": "markdown",
   "metadata": {},
   "source": [
    "## Create and initialize a solver\n",
    "\n",
    "For well-mixed simulation, we create a \"wmdirect\" solver and initialize it by adding molecules to the compartment. "
   ]
  },
  {
   "cell_type": "code",
   "execution_count": 6,
   "metadata": {
    "collapsed": true
   },
   "outputs": [],
   "source": [
    "# Import solver module\n",
    "import steps.solver as ssolv\n",
    "\n",
    "# Create Well-mixed Direct solver\n",
    "sim_direct = ssolv.Wmdirect(mdl, wmgeom, r)\n",
    "\n",
    "# Inject 10 ‘A’ molecules\n",
    "sim_direct.setCompCount('cyt','A', 10)\n",
    "\n",
    "# Set concentration of ‘B’ molecules\n",
    "sim_direct.setCompConc('cyt', 'B', 0.0332e-6)"
   ]
  },
  {
   "cell_type": "markdown",
   "metadata": {},
   "source": [
    "## Run the solver and gather simulation data\n",
    "After that we can run the solver until it reaches a specific time point, say 0.1 second. You can gather simulation data such as molecule counts using many STEPS APIs, for example"
   ]
  },
  {
   "cell_type": "code",
   "execution_count": 7,
   "metadata": {},
   "outputs": [
    {
     "data": {
      "text/plain": [
       "6.0"
      ]
     },
     "execution_count": 7,
     "metadata": {},
     "output_type": "execute_result"
    }
   ],
   "source": [
    "# Run simulation for 0.1s\n",
    "sim_direct.run(0.1)\n",
    "\n",
    "# Return the number of A molecules\n",
    "sim_direct.getCompCount('cyt', 'A')"
   ]
  },
  {
   "cell_type": "markdown",
   "metadata": {},
   "source": [
    "In practice, it is often necessary to store simulation data in a numpy array or a file for plotting or further analysis. For example, here we record the number of molcules using numpy array."
   ]
  },
  {
   "cell_type": "code",
   "execution_count": 8,
   "metadata": {
    "collapsed": true
   },
   "outputs": [],
   "source": [
    "# Reset the solver and reinitizlize molecule counts\n",
    "\n",
    "sim_direct.reset()\n",
    "\n",
    "# Inject 10 ‘A’ molecules\n",
    "sim_direct.setCompCount('cyt','A', 10)\n",
    "\n",
    "# Set concentration of ‘B’ molecules\n",
    "sim_direct.setCompConc('cyt', 'B', 0.0332e-6)"
   ]
  },
  {
   "cell_type": "code",
   "execution_count": 9,
   "metadata": {
    "collapsed": true
   },
   "outputs": [],
   "source": [
    "# Import numpy\n",
    "import numpy as np\n",
    "\n",
    "# Create time-point numpy array, starting at time 0, end at 0.5 second and record data every 0.001 second\n",
    "tpnt = np.arange(0.0, 0.501, 0.001)\n",
    "\n",
    "# Calculate number of time points\n",
    "n_tpnts = len(tpnt)\n",
    "\n",
    "# Create data array, initialised with zeros\n",
    "res_direct = np.zeros([n_tpnts, 3])\n",
    "\n",
    "# Run simulation and record data\n",
    "for t in range(0, n_tpnts):\n",
    "    sim_direct.run(tpnt[t])\n",
    "    res_direct[t,0] = sim_direct.getCompCount('cyt','A')\n",
    "    res_direct[t,1] = sim_direct.getCompCount('cyt','B')\n",
    "    res_direct[t,2] = sim_direct.getCompCount('cyt','C')"
   ]
  },
  {
   "cell_type": "markdown",
   "metadata": {},
   "source": [
    "Let's check what is inside the array now:"
   ]
  },
  {
   "cell_type": "code",
   "execution_count": 10,
   "metadata": {},
   "outputs": [
    {
     "name": "stdout",
     "output_type": "stream",
     "text": [
      "[[ 10.  20.   0.]\n",
      " [ 10.  20.   0.]\n",
      " [ 10.  20.   0.]\n",
      " ..., \n",
      " [  2.  12.   8.]\n",
      " [  2.  12.   8.]\n",
      " [  2.  12.   8.]]\n"
     ]
    }
   ],
   "source": [
    "print res_direct"
   ]
  },
  {
   "cell_type": "markdown",
   "metadata": {},
   "source": [
    "### Execise 3: Run your kinase model in STEPS\n",
    "Here are the tasks:\n",
    "1. Create a \"wmdirect\" solver and set the initial condition:\n",
    "    * MEKp = 1uM\n",
    "    * ERK = 1.5uM\n",
    "2. Run the simulation for 30 seconds, record concerntrations of each molecule every 0.01 seconds."
   ]
  },
  {
   "cell_type": "code",
   "execution_count": 11,
   "metadata": {
    "collapsed": true
   },
   "outputs": [],
   "source": [
    "# Import biochemical model module\n",
    "import steps.model as smod\n",
    "\n",
    "# Create model container\n",
    "execise_mdl = smod.Model()\n",
    "\n",
    "# Create chemical species\n",
    "MEKp = smod.Spec('MEKp', execise_mdl)\n",
    "ERK = smod.Spec('ERK', execise_mdl)\n",
    "MEKpERK = smod.Spec('MEKpERK', execise_mdl)\n",
    "ERKp = smod.Spec('ERKp', execise_mdl)\n",
    "\n",
    "# Create reaction set container (volume system)\n",
    "execise_vsys = smod.Volsys('execise_vsys', execise_mdl)\n",
    "\n",
    "# Create reactions (Do it yourself)\n",
    "# MEKp + ERK -> MEKpERK, rate constant 16.2*10e6\n",
    "MEKp_ERK_to_MEKpERK = smod.Reac('MEKp_ERK_to_MEKpERK', execise_vsys, lhs=[MEKp,ERK], rhs = [MEKpERK])\n",
    "MEKp_ERK_to_MEKpERK.setKcst(16.2e6)\n",
    "# MEKpERK -> MEKp + ERK, rate constant 0.6\n",
    "MEKpERK_to_MEKp_ERK = smod.Reac('MEKpERK_to_MEKp_ERK', execise_vsys, lhs = [MEKpERK], rhs=[MEKp,ERK])\n",
    "MEKpERK_to_MEKp_ERK.setKcst(0.6)\n",
    "# MEKpERK -> MEKp + ERKp, rate constant 0.15\n",
    "MEKpERK_to_MEKp_ERKp = smod.Reac('MEKpERK_to_MEKp_ERKp', execise_vsys, lhs = [MEKpERK], rhs=[MEKp,ERKp])\n",
    "MEKpERK_to_MEKp_ERKp.setKcst(0.15)\n",
    "\n",
    "####### You script after execise 1 should look like above #######\n",
    "\n",
    "# Create a compartment of  0.1um^3\n",
    "import steps.geom as sgeom\n",
    "execise_wmgeom = sgeom.Geom()\n",
    "execise_cyt = sgeom.Comp('execise_cyt', execise_wmgeom)\n",
    "execise_cyt.setVol(0.1e-18)\n",
    "\n",
    "# Associate the compartment with the volume system 'vsys'\n",
    "execise_cyt.addVolsys('execise_vsys')\n",
    "\n",
    "# Create and initialize a 'r123' random number generator\n",
    "import steps.rng as srng\n",
    "execise_r = srng.create('r123', 256)\n",
    "execise_r.initialize(1)\n",
    "\n",
    "####### You script after execise 2 should look like above #######\n",
    "\n",
    "# Create a \"wmdirect\" solver and set the initial condition:\n",
    "# MEKp = 1uM\n",
    "# ERK = 1.5uM\n",
    "\n",
    "\n",
    "# Run the simulation for 30 seconds, record concerntrations of each molecule every 0.01 seconds.\n"
   ]
  },
  {
   "cell_type": "markdown",
   "metadata": {},
   "source": [
    "## Visuzalize simulation data\n",
    "\n",
    "Visuzliation is often needed to analyze the behavior of the simulation, here we use Matplotlib to plot the data."
   ]
  },
  {
   "cell_type": "code",
   "execution_count": 12,
   "metadata": {
    "scrolled": false
   },
   "outputs": [
    {
     "data": {
      "image/png": "[encoded data removed]",
      "text/plain": [
       "<matplotlib.figure.Figure at 0x116dfbd10>"
      ]
     },
     "metadata": {},
     "output_type": "display_data"
    }
   ],
   "source": [
    "from pylab import *\n",
    "%matplotlib inline\n",
    "plot(tpnt, res_direct[:,0], label='A')\n",
    "plot(tpnt, res_direct[:,1], label='B')\n",
    "plot(tpnt, res_direct[:,2], label='C')\n",
    "ylabel('Number of molecules')\n",
    "xlabel('Time(sec)')\n",
    "legend()\n",
    "show()"
   ]
  },
  {
   "cell_type": "markdown",
   "metadata": {},
   "source": [
    "### Execise 4: Plot the results of the kinase simulation\n",
    "Let's now plot the result of our execise."
   ]
  },
  {
   "cell_type": "code",
   "execution_count": 13,
   "metadata": {
    "collapsed": true
   },
   "outputs": [],
   "source": [
    "# Import biochemical model module\n",
    "import steps.model as smod\n",
    "\n",
    "# Create model container\n",
    "execise_mdl = smod.Model()\n",
    "\n",
    "# Create chemical species\n",
    "MEKp = smod.Spec('MEKp', execise_mdl)\n",
    "ERK = smod.Spec('ERK', execise_mdl)\n",
    "MEKpERK = smod.Spec('MEKpERK', execise_mdl)\n",
    "ERKp = smod.Spec('ERKp', execise_mdl)\n",
    "\n",
    "# Create reaction set container (volume system)\n",
    "execise_vsys = smod.Volsys('execise_vsys', execise_mdl)\n",
    "\n",
    "# Create reactions (Do it yourself)\n",
    "# MEKp + ERK -> MEKpERK, rate constant 16.2*10e6\n",
    "MEKp_ERK_to_MEKpERK = smod.Reac('MEKp_ERK_to_MEKpERK', execise_vsys, lhs=[MEKp,ERK], rhs = [MEKpERK])\n",
    "MEKp_ERK_to_MEKpERK.setKcst(16.2e6)\n",
    "# MEKpERK -> MEKp + ERK, rate constant 0.6\n",
    "MEKpERK_to_MEKp_ERK = smod.Reac('MEKpERK_to_MEKp_ERK', execise_vsys, lhs = [MEKpERK], rhs=[MEKp,ERK])\n",
    "MEKpERK_to_MEKp_ERK.setKcst(0.6)\n",
    "# MEKpERK -> MEKp + ERKp, rate constant 0.15\n",
    "MEKpERK_to_MEKp_ERKp = smod.Reac('MEKpERK_to_MEKp_ERKp', execise_vsys, lhs = [MEKpERK], rhs=[MEKp,ERKp])\n",
    "MEKpERK_to_MEKp_ERKp.setKcst(0.15)\n",
    "\n",
    "####### You script after execise 1 should look like above #######\n",
    "\n",
    "# Create a compartment of  0.1um^3\n",
    "import steps.geom as sgeom\n",
    "execise_wmgeom = sgeom.Geom()\n",
    "execise_cyt = sgeom.Comp('execise_cyt', execise_wmgeom)\n",
    "execise_cyt.setVol(0.1e-18)\n",
    "\n",
    "# Associate the compartment with the volume system 'vsys'\n",
    "execise_cyt.addVolsys('execise_vsys')\n",
    "\n",
    "# Create and initialize a 'r123' random number generator\n",
    "import steps.rng as srng\n",
    "execise_r = srng.create('r123', 256)\n",
    "execise_r.initialize(143)\n",
    "\n",
    "####### You script after execise 2 should look like above #######\n",
    "\n",
    "# Create a \"wmdirect\" solver and set the initial condition:\n",
    "# MEKp = 1uM\n",
    "# ERK = 1.5uM\n",
    "import steps.solver as ssolv\n",
    "execise_sim = ssolv.Wmdirect(execise_mdl, execise_wmgeom, execise_r)\n",
    "execise_sim.setCompConc('execise_cyt','MEKp', 1e-6)\n",
    "execise_sim.setCompConc('execise_cyt','ERK', 1.5e-6)\n",
    "\n",
    "# Run the simulation for 30 seconds, record concerntrations of each molecule every 0.01 seconds.\n",
    "import numpy as np\n",
    "execise_tpnts = np.arange(0.0, 30.01, 0.01)\n",
    "n_tpnts = len(execise_tpnts)\n",
    "execise_res = np.zeros([n_tpnts, 4])\n",
    "\n",
    "# Run simulation and record data\n",
    "for t in range(0, n_tpnts):\n",
    "    execise_sim.run(execise_tpnts[t])\n",
    "    execise_res[t,0] = execise_sim.getCompCount('execise_cyt','MEKp')\n",
    "    execise_res[t,1] = execise_sim.getCompCount('execise_cyt','ERK')\n",
    "    execise_res[t,2] = execise_sim.getCompCount('execise_cyt','MEKpERK')\n",
    "    execise_res[t,3] = execise_sim.getCompCount('execise_cyt','ERKp')\n",
    "\n",
    "####### You script after execise 3 should look like above #######\n",
    "\n",
    "# Plot execise_res"
   ]
  },
  {
   "cell_type": "markdown",
   "metadata": {},
   "source": [
    "Here is the complete script for our well-mixed kinase simulation:"
   ]
  },
  {
   "cell_type": "code",
   "execution_count": 14,
   "metadata": {},
   "outputs": [
    {
     "data": {
      "image/png": "[encoded data removed]",
      "text/plain": [
       "<matplotlib.figure.Figure at 0x116ff2710>"
      ]
     },
     "metadata": {},
     "output_type": "display_data"
    }
   ],
   "source": [
    "# Import biochemical model module\n",
    "import steps.model as smod\n",
    "\n",
    "# Create model container\n",
    "execise_mdl = smod.Model()\n",
    "\n",
    "# Create chemical species\n",
    "MEKp = smod.Spec('MEKp', execise_mdl)\n",
    "ERK = smod.Spec('ERK', execise_mdl)\n",
    "MEKpERK = smod.Spec('MEKpERK', execise_mdl)\n",
    "ERKp = smod.Spec('ERKp', execise_mdl)\n",
    "\n",
    "# Create reaction set container (volume system)\n",
    "execise_vsys = smod.Volsys('execise_vsys', execise_mdl)\n",
    "\n",
    "# Create reactions (Do it yourself)\n",
    "# MEKp + ERK -> MEKpERK, rate constant 16.2*10e6\n",
    "MEKp_ERK_to_MEKpERK = smod.Reac('MEKp_ERK_to_MEKpERK', execise_vsys, lhs=[MEKp,ERK], rhs = [MEKpERK])\n",
    "MEKp_ERK_to_MEKpERK.setKcst(16.2e6)\n",
    "# MEKpERK -> MEKp + ERK, rate constant 0.6\n",
    "MEKpERK_to_MEKp_ERK = smod.Reac('MEKpERK_to_MEKp_ERK', execise_vsys, lhs = [MEKpERK], rhs=[MEKp,ERK])\n",
    "MEKpERK_to_MEKp_ERK.setKcst(0.6)\n",
    "# MEKpERK -> MEKp + ERKp, rate constant 0.15\n",
    "MEKpERK_to_MEKp_ERKp = smod.Reac('MEKpERK_to_MEKp_ERKp', execise_vsys, lhs = [MEKpERK], rhs=[MEKp,ERKp])\n",
    "MEKpERK_to_MEKp_ERKp.setKcst(0.15)\n",
    "\n",
    "####### You script after execise 1 should look like above #######\n",
    "\n",
    "# Create a compartment of  0.1um^3\n",
    "import steps.geom as sgeom\n",
    "execise_wmgeom = sgeom.Geom()\n",
    "execise_cyt = sgeom.Comp('execise_cyt', execise_wmgeom)\n",
    "execise_cyt.setVol(0.1e-18)\n",
    "\n",
    "# Associate the compartment with the volume system 'vsys'\n",
    "execise_cyt.addVolsys('execise_vsys')\n",
    "\n",
    "# Create and initialize a 'r123' random number generator\n",
    "import steps.rng as srng\n",
    "execise_r = srng.create('r123', 256)\n",
    "execise_r.initialize(143)\n",
    "\n",
    "####### You script after execise 2 should look like above #######\n",
    "\n",
    "# Create a \"wmdirect\" solver and set the initial condition:\n",
    "# MEKp = 1uM\n",
    "# ERK = 1.5uM\n",
    "import steps.solver as ssolv\n",
    "execise_sim = ssolv.Wmdirect(execise_mdl, execise_wmgeom, execise_r)\n",
    "execise_sim.setCompConc('execise_cyt','MEKp', 1e-6)\n",
    "execise_sim.setCompConc('execise_cyt','ERK', 1.5e-6)\n",
    "\n",
    "# Run the simulation for 30 seconds, record concerntrations of each molecule every 0.01 seconds.\n",
    "import numpy as np\n",
    "execise_tpnts = np.arange(0.0, 30.01, 0.01)\n",
    "n_tpnts = len(execise_tpnts)\n",
    "execise_res = np.zeros([n_tpnts, 4])\n",
    "\n",
    "# Run simulation and record data\n",
    "for t in range(0, n_tpnts):\n",
    "    execise_sim.run(execise_tpnts[t])\n",
    "    execise_res[t,0] = execise_sim.getCompCount('execise_cyt','MEKp')\n",
    "    execise_res[t,1] = execise_sim.getCompCount('execise_cyt','ERK')\n",
    "    execise_res[t,2] = execise_sim.getCompCount('execise_cyt','MEKpERK')\n",
    "    execise_res[t,3] = execise_sim.getCompCount('execise_cyt','ERKp')\n",
    "\n",
    "####### You script after execise 3 should look like above #######\n",
    "\n",
    "# Plot execise_res\n",
    "from pylab import *\n",
    "plot(execise_tpnts, execise_res[:,0], label='MEKp')\n",
    "plot(execise_tpnts, execise_res[:,1], label='ERK')\n",
    "plot(execise_tpnts, execise_res[:,2], label='MEKpERK')\n",
    "plot(execise_tpnts, execise_res[:,3], label='ERKp')\n",
    "ylabel('Number of molecules')\n",
    "xlabel('Time(sec)')\n",
    "legend()\n",
    "show()\n",
    "\n",
    "####### You script after execise 4 should look like above #######"
   ]
  },
  {
   "cell_type": "markdown",
   "metadata": {},
   "source": [
    "## From well-mixed simulation to spatial simulation"
   ]
  },
  {
   "cell_type": "markdown",
   "metadata": {},
   "source": [
    "To convert a well-mixed simulation to a spatial one, here are the basic steps:\n",
    "1. Add diffusion rules for every diffusive species in the biochemical model.\n",
    "2. Change the well-mixed geoemtry to a tetrahedral mesh.\n",
    "3. Change the solver to \"Tetexact\".\n",
    "\n",
    "First, let's see how to add diffusion rules in our example well-mixed model:"
   ]
  },
  {
   "cell_type": "code",
   "execution_count": 15,
   "metadata": {
    "collapsed": true
   },
   "outputs": [],
   "source": [
    "# Import biochemical model module\n",
    "import steps.model as smod\n",
    "\n",
    "# Create model container\n",
    "mdl = smod.Model()\n",
    "\n",
    "# Create chemical species\n",
    "A = smod.Spec('A', mdl)\n",
    "B = smod.Spec('B', mdl)\n",
    "C = smod.Spec('C', mdl)\n",
    "\n",
    "# Create reaction set container\n",
    "vsys = smod.Volsys('vsys', mdl)\n",
    "\n",
    "# Create reaction\n",
    "# A + B - > C with rate 200 /uM.s\n",
    "reac_f = smod.Reac('reac_f', vsys, lhs=[A,B], rhs = [C])\n",
    "reac_f.setKcst(200e6)\n",
    "\n",
    "###### Above is the previous well-mixed biochemical model\n",
    "\n",
    "# We add diffusion rules for species A, B and C\n",
    "diff_a = smod.Diff('diff_a', vsys, A)\n",
    "diff_a.setDcst(0.02e-9)\n",
    "diff_b = smod.Diff('diff_b', vsys, B)\n",
    "diff_b.setDcst(0.02e-9)\n",
    "diff_c = smod.Diff('diff_c', vsys, C)\n",
    "diff_c.setDcst(0.02e-9)"
   ]
  },
  {
   "cell_type": "markdown",
   "metadata": {
    "collapsed": true
   },
   "source": [
    "\n",
    "We now import a tetrahedral mesh using the steps.utilities.meshio module to replace the well-mixed geometry:"
   ]
  },
  {
   "cell_type": "code",
   "execution_count": 16,
   "metadata": {},
   "outputs": [
    {
     "name": "stdout",
     "output_type": "stream",
     "text": [
      "Reading Abaqus file...\n",
      "Number of nodes imported:  1841\n",
      "Number of tetrahedrons imported:  8828\n",
      "Number of triangles imported:  0\n",
      "creating Tetmesh object in STEPS...\n",
      "Tetmesh object created.\n"
     ]
    }
   ],
   "source": [
    "'''\n",
    "# Import geometry module\n",
    "import steps.geom as sgeom\n",
    "\n",
    "# Create well-mixed geometry container\n",
    "wmgeom = sgeom.Geom()\n",
    "\n",
    "# Create cytosol compartment\n",
    "cyt = sgeom.Comp('cyt', wmgeom)\n",
    "\n",
    "# Give volume to cyt (1um^3)\n",
    "cyt.setVol(1.0e-18)\n",
    "\n",
    "# Assign reaction set to compartment\n",
    "cyt.addVolsys('vsys')\n",
    "\n",
    "'''\n",
    "\n",
    "##### above is the old well-mixed geometry ##########\n",
    "\n",
    "import steps.geom as sgeom\n",
    "import steps.utilities.meshio as meshio\n",
    "\n",
    "# Import the mesh\n",
    "mesh = meshio.importAbaqus('meshes/1x1x1_cube.inp', 1.0e-6)[0]\n",
    "\n",
    "# Create mesh-based compartment\n",
    "cyt = sgeom.TmComp('cyt', mesh, range(mesh.ntets))\n",
    "\n",
    "# Add volume system to the compartment\n",
    "cyt.addVolsys('vsys')"
   ]
  },
  {
   "cell_type": "markdown",
   "metadata": {},
   "source": [
    "Finally, we replace the \"Wmdirect\" solver with the spatial \"Tetexact\" solver:"
   ]
  },
  {
   "cell_type": "code",
   "execution_count": 17,
   "metadata": {
    "collapsed": true
   },
   "outputs": [],
   "source": [
    "# Import solver module\n",
    "import steps.solver as ssolv\n",
    "\n",
    "'''\n",
    "# Create Well-mixed Direct solver\n",
    "sim_direct = ssolv.Wmdirect(mdl, wmgeom, r)\n",
    "'''\n",
    "\n",
    "##### above is the old well-mixed Wmdirect solver ##########\n",
    "\n",
    "# Create a spatial Tetexact solver\n",
    "sim_tetexact = ssolv.Tetexact(mdl, mesh, r)"
   ]
  },
  {
   "cell_type": "markdown",
   "metadata": {},
   "source": [
    "The \"Wmdirect\" solver and the \"Tetexact\" solver share most of the APIs, so we can reuse our old script for simulation control and plotting:"
   ]
  },
  {
   "cell_type": "code",
   "execution_count": 18,
   "metadata": {},
   "outputs": [
    {
     "data": {
      "image/png": "[encoded data removed]",
      "text/plain": [
       "<matplotlib.figure.Figure at 0x116ed6c50>"
      ]
     },
     "metadata": {},
     "output_type": "display_data"
    }
   ],
   "source": [
    "# Inject 10 ‘A’ molecules\n",
    "sim_tetexact.setCompCount('cyt','A', 10)\n",
    "\n",
    "# Set concentration of ‘B’ molecules\n",
    "sim_tetexact.setCompConc('cyt', 'B', 0.0332e-6)\n",
    "\n",
    "# Import numpy\n",
    "import numpy as np\n",
    "\n",
    "# Create time-point numpy array, starting at time 0, end at 0.5 second and record data every 0.001 second\n",
    "tpnt = np.arange(0.0, 0.501, 0.001)\n",
    "\n",
    "# Calculate number of time points\n",
    "n_tpnts = len(tpnt)\n",
    "\n",
    "# Create data array, initialised with zeros\n",
    "res_tetexact = np.zeros([n_tpnts, 3])\n",
    "\n",
    "# Run simulation and record data\n",
    "for t in range(0, n_tpnts):\n",
    "    sim_tetexact.run(tpnt[t])\n",
    "    res_tetexact[t,0] = sim_tetexact.getCompCount('cyt','A')\n",
    "    res_tetexact[t,1] = sim_tetexact.getCompCount('cyt','B')\n",
    "    res_tetexact[t,2] = sim_tetexact.getCompCount('cyt','C')\n",
    "    \n",
    "from pylab import *\n",
    "plot(tpnt, res_tetexact[:,0], label='A')\n",
    "plot(tpnt, res_tetexact[:,1], label='B')\n",
    "plot(tpnt, res_tetexact[:,2], label='C')\n",
    "ylabel('Number of molecules')\n",
    "xlabel('Time(sec)')\n",
    "legend()\n",
    "show()"
   ]
  },
  {
   "cell_type": "markdown",
   "metadata": {},
   "source": [
    "# Execise 5: Modify your well-mixed kinase simulation to a spatial one"
   ]
  },
  {
   "cell_type": "markdown",
   "metadata": {},
   "source": [
    "Let's now convert the below well-mixed kinase model to a spatial one, here are the tasks:\n",
    "\n",
    "1. Add diffusion constants:\n",
    "    * MEKp = 30e-12 $m^2/s$\n",
    "    * ERK = 30e-12 $m^2/s$\n",
    "    * MEKpERK = 10e-12 $m^2/s$\n",
    "2. Replace the geometry to use mesh 'meshes/sp_0.1v_1046.inp'\n",
    "3. Change the solver to Tetexact\n",
    "4. Run the simulation again"
   ]
  },
  {
   "cell_type": "code",
   "execution_count": 19,
   "metadata": {},
   "outputs": [
    {
     "data": {
      "image/png": "[encoded data removed]",
      "text/plain": [
       "<matplotlib.figure.Figure at 0x10f041cd0>"
      ]
     },
     "metadata": {},
     "output_type": "display_data"
    }
   ],
   "source": [
    "# Import biochemical model module\n",
    "import steps.model as smod\n",
    "\n",
    "# Create model container\n",
    "execise_mdl = smod.Model()\n",
    "\n",
    "# Create chemical species\n",
    "MEKp = smod.Spec('MEKp', execise_mdl)\n",
    "ERK = smod.Spec('ERK', execise_mdl)\n",
    "MEKpERK = smod.Spec('MEKpERK', execise_mdl)\n",
    "ERKp = smod.Spec('ERKp', execise_mdl)\n",
    "\n",
    "# Create reaction set container (volume system)\n",
    "execise_vsys = smod.Volsys('execise_vsys', execise_mdl)\n",
    "\n",
    "# Create reactions (Do it yourself)\n",
    "# MEKp + ERK -> MEKpERK, rate constant 16.2*10e6\n",
    "MEKp_ERK_to_MEKpERK = smod.Reac('MEKp_ERK_to_MEKpERK', execise_vsys, lhs=[MEKp,ERK], rhs = [MEKpERK])\n",
    "MEKp_ERK_to_MEKpERK.setKcst(16.2e6)\n",
    "# MEKpERK -> MEKp + ERK, rate constant 0.6\n",
    "MEKpERK_to_MEKp_ERK = smod.Reac('MEKpERK_to_MEKp_ERK', execise_vsys, lhs = [MEKpERK], rhs=[MEKp,ERK])\n",
    "MEKpERK_to_MEKp_ERK.setKcst(0.6)\n",
    "# MEKpERK -> MEKp + ERKp, rate constant 0.15\n",
    "MEKpERK_to_MEKp_ERKp = smod.Reac('MEKpERK_to_MEKp_ERKp', execise_vsys, lhs = [MEKpERK], rhs=[MEKp,ERKp])\n",
    "MEKpERK_to_MEKp_ERKp.setKcst(0.15)\n",
    "\n",
    "########### execise 5.1: Add diffusion constants\n",
    "\n",
    "#    * MEKp = 30e-12 m^2/s\n",
    "#    * ERK = 30e-12 m^2/s\n",
    "#    * MEKpERK = 10e-12 m^2/s\n",
    "\n",
    "\n",
    "####### You script after execise 1 should look like above #######\n",
    "\n",
    "########### execise 5.2: Replace the geometry to use mesh 'meshes/sp_0.1v_1046.inp'\n",
    "\n",
    "# Create a compartment of  0.1um^3\n",
    "import steps.geom as sgeom\n",
    "execise_wmgeom = sgeom.Geom()\n",
    "execise_cyt = sgeom.Comp('execise_cyt', execise_wmgeom)\n",
    "execise_cyt.setVol(0.1e-18)\n",
    "\n",
    "# Associate the compartment with the volume system 'vsys'\n",
    "execise_cyt.addVolsys('execise_vsys')\n",
    "\n",
    "# Create and initialize a 'r123' random number generator\n",
    "import steps.rng as srng\n",
    "execise_r = srng.create('r123', 256)\n",
    "execise_r.initialize(143)\n",
    "\n",
    "####### You script after execise 2 should look like above #######\n",
    "\n",
    "# Create a \"wmdirect\" solver and set the initial condition:\n",
    "# MEKp = 1uM\n",
    "# ERK = 1.5uM\n",
    "import steps.solver as ssolv\n",
    "\n",
    "########### execise 5.3: Change the solver to Tetexact\n",
    "execise_sim = ssolv.Wmdirect(execise_mdl, execise_wmgeom, execise_r)\n",
    "\n",
    "execise_sim.setCompConc('execise_cyt','MEKp', 1e-6)\n",
    "execise_sim.setCompConc('execise_cyt','ERK', 1.5e-6)\n",
    "\n",
    "# Run the simulation for 30 seconds, record concerntrations of each molecule every 0.01 seconds.\n",
    "import numpy as np\n",
    "execise_tpnts = np.arange(0.0, 30.01, 0.01)\n",
    "n_tpnts = len(execise_tpnts)\n",
    "execise_res = np.zeros([n_tpnts, 4])\n",
    "\n",
    "# Run simulation and record data\n",
    "for t in range(0, n_tpnts):\n",
    "    execise_sim.run(execise_tpnts[t])\n",
    "    execise_res[t,0] = execise_sim.getCompCount('execise_cyt','MEKp')\n",
    "    execise_res[t,1] = execise_sim.getCompCount('execise_cyt','ERK')\n",
    "    execise_res[t,2] = execise_sim.getCompCount('execise_cyt','MEKpERK')\n",
    "    execise_res[t,3] = execise_sim.getCompCount('execise_cyt','ERKp')\n",
    "\n",
    "####### You script after execise 3 should look like above #######\n",
    "\n",
    "# Plot execise_res\n",
    "from pylab import *\n",
    "plot(execise_tpnts, execise_res[:,0], label='MEKp')\n",
    "plot(execise_tpnts, execise_res[:,1], label='ERK')\n",
    "plot(execise_tpnts, execise_res[:,2], label='MEKpERK')\n",
    "plot(execise_tpnts, execise_res[:,3], label='ERKp')\n",
    "ylabel('Number of molecules')\n",
    "xlabel('Time(sec)')\n",
    "legend()\n",
    "show()\n",
    "\n",
    "####### You script after execise 4 should look like above #######"
   ]
  },
  {
   "cell_type": "markdown",
   "metadata": {},
   "source": [
    "Here is the modified script"
   ]
  },
  {
   "cell_type": "code",
   "execution_count": 20,
   "metadata": {},
   "outputs": [
    {
     "name": "stdout",
     "output_type": "stream",
     "text": [
      "Reading Abaqus file...\n",
      "Number of nodes imported:  247\n",
      "Number of tetrahedrons imported:  1046\n",
      "Number of triangles imported:  0\n",
      "creating Tetmesh object in STEPS...\n",
      "Tetmesh object created.\n"
     ]
    },
    {
     "data": {
      "image/png": "[encoded data removed]",
      "text/plain": [
       "<matplotlib.figure.Figure at 0x1161d3390>"
      ]
     },
     "metadata": {},
     "output_type": "display_data"
    }
   ],
   "source": [
    "# Import biochemical model module\n",
    "import steps.model as smod\n",
    "\n",
    "# Create model container\n",
    "execise_mdl = smod.Model()\n",
    "\n",
    "# Create chemical species\n",
    "MEKp = smod.Spec('MEKp', execise_mdl)\n",
    "ERK = smod.Spec('ERK', execise_mdl)\n",
    "MEKpERK = smod.Spec('MEKpERK', execise_mdl)\n",
    "ERKp = smod.Spec('ERKp', execise_mdl)\n",
    "\n",
    "# Create reaction set container (volume system)\n",
    "execise_vsys = smod.Volsys('execise_vsys', execise_mdl)\n",
    "\n",
    "# Create reactions (Do it yourself)\n",
    "# MEKp + ERK -> MEKpERK, rate constant 16.2*10e6\n",
    "MEKp_ERK_to_MEKpERK = smod.Reac('MEKp_ERK_to_MEKpERK', execise_vsys, lhs=[MEKp,ERK], rhs = [MEKpERK])\n",
    "MEKp_ERK_to_MEKpERK.setKcst(16.2e6)\n",
    "# MEKpERK -> MEKp + ERK, rate constant 0.6\n",
    "MEKpERK_to_MEKp_ERK = smod.Reac('MEKpERK_to_MEKp_ERK', execise_vsys, lhs = [MEKpERK], rhs=[MEKp,ERK])\n",
    "MEKpERK_to_MEKp_ERK.setKcst(0.6)\n",
    "# MEKpERK -> MEKp + ERKp, rate constant 0.15\n",
    "MEKpERK_to_MEKp_ERKp = smod.Reac('MEKpERK_to_MEKp_ERKp', execise_vsys, lhs = [MEKpERK], rhs=[MEKp,ERKp])\n",
    "MEKpERK_to_MEKp_ERKp.setKcst(0.15)\n",
    "\n",
    "########### execise 5.1: Add diffusion constants\n",
    "\n",
    "#    * MEKp = 30e-12 m^2/s\n",
    "#    * ERK = 30e-12 m^2/s\n",
    "#    * MEKpERK = 10e-12 m^2/s\n",
    "\n",
    "diff_MEKp = smod.Diff('diff_MEKp', execise_vsys, MEKp)\n",
    "diff_MEKp.setDcst(30e-12)\n",
    "diff_ERK = smod.Diff('diff_ERK', execise_vsys, ERK)\n",
    "diff_ERK.setDcst(30e-12)\n",
    "diff_MEKpERK = smod.Diff('diff_MEKpERK', execise_vsys, MEKpERK)\n",
    "diff_MEKpERK.setDcst(10e-12)\n",
    "\n",
    "####### You script after execise 1 should look like above #######\n",
    "\n",
    "########### execise 5.2: Replace the geometry to use mesh 'meshes/sp_0.1v_1046.inp'\n",
    "import steps.geom as sgeom\n",
    "import steps.utilities.meshio as meshio\n",
    "\n",
    "mesh = meshio.importAbaqus('meshes/sp_0.1v_1046.inp', 1.0e-6)[0]\n",
    "execise_cyt = sgeom.TmComp('execise_cyt', mesh, range(mesh.ntets))\n",
    "execise_cyt.addVolsys('execise_vsys')\n",
    "\n",
    "# Create and initialize a 'r123' random number generator\n",
    "import steps.rng as srng\n",
    "execise_r = srng.create('r123', 256)\n",
    "execise_r.initialize(143)\n",
    "\n",
    "####### You script after execise 2 should look like above #######\n",
    "\n",
    "# Create a \"wmdirect\" solver and set the initial condition:\n",
    "# MEKp = 1uM\n",
    "# ERK = 1.5uM\n",
    "import steps.solver as ssolv\n",
    "\n",
    "########### execise 5.3: Change the solver to Tetexact\n",
    "execise_sim = ssolv.Tetexact(execise_mdl, mesh, execise_r)\n",
    "\n",
    "execise_sim.setCompConc('execise_cyt','MEKp', 1e-6)\n",
    "execise_sim.setCompConc('execise_cyt','ERK', 1.5e-6)\n",
    "\n",
    "# Run the simulation for 30 seconds, record concerntrations of each molecule every 0.01 seconds.\n",
    "import numpy as np\n",
    "execise_tpnts = np.arange(0.0, 30.01, 0.01)\n",
    "n_tpnts = len(execise_tpnts)\n",
    "execise_res = np.zeros([n_tpnts, 4])\n",
    "\n",
    "# Run simulation and record data\n",
    "for t in range(0, n_tpnts):\n",
    "    execise_sim.run(execise_tpnts[t])\n",
    "    execise_res[t,0] = execise_sim.getCompCount('execise_cyt','MEKp')\n",
    "    execise_res[t,1] = execise_sim.getCompCount('execise_cyt','ERK')\n",
    "    execise_res[t,2] = execise_sim.getCompCount('execise_cyt','MEKpERK')\n",
    "    execise_res[t,3] = execise_sim.getCompCount('execise_cyt','ERKp')\n",
    "\n",
    "####### You script after execise 3 should look like above #######\n",
    "\n",
    "# Plot execise_res\n",
    "from pylab import *\n",
    "plot(execise_tpnts, execise_res[:,0], label='MEKp')\n",
    "plot(execise_tpnts, execise_res[:,1], label='ERK')\n",
    "plot(execise_tpnts, execise_res[:,2], label='MEKpERK')\n",
    "plot(execise_tpnts, execise_res[:,3], label='ERKp')\n",
    "ylabel('Number of molecules')\n",
    "xlabel('Time(sec)')\n",
    "legend()\n",
    "show()\n",
    "\n",
    "####### You script after execise 4 should look like above #######"
   ]
  }
 ],
 "metadata": {
  "kernelspec": {
   "display_name": "Python 2",
   "language": "python",
   "name": "python2"
  },
  "language_info": {
   "codemirror_mode": {
    "name": "ipython",
    "version": 2
   },
   "file_extension": ".py",
   "mimetype": "text/x-python",
   "name": "python",
   "nbconvert_exporter": "python",
   "pygments_lexer": "ipython2",
   "version": "2.7.13"
  }
 },
 "nbformat": 4,
 "nbformat_minor": 2
}
