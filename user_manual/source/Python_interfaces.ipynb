{
 "cells": [
  {
   "cell_type": "markdown",
   "metadata": {},
   "source": [
    "# Python interfaces to STEPS\n",
    "\n",
    "Since version 3.6, STEPS is shipped with a new, more pythonic interface. In this documentation, we will refer to the original interface as API_1 and to the new one as API_2. Unless mentioned explicitely, we will use API_2 by default.\n",
    "\n",
    "## Compatibility between APIs\n",
    "\n",
    "Models that were written using API_1 are still usable without any changes. Users are however encouraged to start using API_2 for new models. It is not advised to try to mix both APIs in a single python script.\n",
    "Until API_1 becomes deprecated, users that want to use API_2 have to explicitely specify it at the beginning of their python scripts (see :doc:`API_2/API_ref`).\n",
    "\n",
    "## Guides\n",
    "\n",
    "Chapters 3 to 9 introduce STEPS concepts in details through examples:\n",
    "\n",
    "- [Well-Mixed Reaction System](API_2/Interface_Tutorial_1_wm.ipynb)\n",
    "- [Surface-Volume Reactions](API_2/Interface_Tutorial_2_IP3.ipynb)\n",
    "- [Diffusion in volumes and on surfaces](API_2/Interface_Tutorial_3_Diffusion.ipynb)\n",
    "- [Data recording and analysis](API_2/Interface_Tutorial_3.1_Paraview.ipynb)\n",
    "- [Multi-state complexes](API_2/Interface_Tutorial_4_Complexes.ipynb)\n",
    "- [Simulating membrane potential](API_2/Interface_Tutorial_5_Efield.ipynb)\n",
    "- [Parallel simulations](API_2/Interface_Tutorial_6_MPI.ipynb)\n",
    "- [Simulation visualization](API_2/Interface_Tutorial_7_visual.ipynb)\n",
    "- [Stochastic Calcium Burst model with GHK currents](API_2/Interface_Tutorial_8_CaBurst.ipynb)\n",
    "\n",
    "Equivalent chapters using API_1 are still available for reference (see [Original STEPS API guides](API_1_guide.rst)).\n",
    "\n",
    "Finally, [API References](API_2/API_ref.rst) provides detailed documentation of STEPS API, documentation relative to API_1 is still available ([API_1 References](API_1/API_ref.rst)).\n",
    "\n",
    "### Conventions\n",
    "\n",
    "All chapters from the guide are runnable with [jupyter lab](https://jupyter.org/). The corresponding `*.ipynb` files are\n",
    "available in the [STEPS_Example](https://github.com/CNS-OIST/STEPS_Example/tree/master/user_manual/source/API_2) github repository.\n",
    "\n",
    "In the following chapters, jupyter code cells are represented with e.g.:"
   ]
  },
  {
   "cell_type": "code",
   "execution_count": 1,
   "metadata": {},
   "outputs": [
    {
     "name": "stdout",
     "output_type": "stream",
     "text": [
      "This is a jupyter code cell\n"
     ]
    }
   ],
   "source": [
    "print('This is a jupyter code cell')"
   ]
  },
  {
   "cell_type": "markdown",
   "metadata": {},
   "source": [
    "The code in jupyter code cells is part of a main example in each chapter. The number on the left of the code indicates the order in which the cells were executed. If its execution printed something, it is shown below the cell.\n",
    "\n",
    "However, it is sometimes useful to provide additional code examples when explaining a STEPS concept. These code examples are not part of the main example and are not executed in the jupyter notebook. They are represented with a different background color and do not have an execution number to their left:\n",
    "\n",
    "```python\n",
    "print('This is a code example, it is not executed')\n",
    "```\n",
    "\n",
    "Finally, commands to be run in a terminal are represented with e.g.:\n",
    "```bash\n",
    "echo \"This should be run in a terminal\"\n",
    "```"
   ]
  }
 ],
 "metadata": {
  "kernelspec": {
   "display_name": "Python 3",
   "language": "python",
   "name": "python3"
  },
  "language_info": {
   "codemirror_mode": {
    "name": "ipython",
    "version": 3
   },
   "file_extension": ".py",
   "mimetype": "text/x-python",
   "name": "python",
   "nbconvert_exporter": "python",
   "pygments_lexer": "ipython3",
   "version": "3.6.9"
  }
 },
 "nbformat": 4,
 "nbformat_minor": 4
}
