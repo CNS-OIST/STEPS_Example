{
 "cells": [
  {
   "cell_type": "markdown",
   "metadata": {},
   "source": [
    "# Simulating Diffusion in Volumes\n",
    "\n",
    "The simulation script described in this chapter is available at [STEPS_Example repository](https://github.com/CNS-OIST/STEPS_Example/blob/master/user_manual/source/diffusion.ipynb).\n",
    "\n",
    "This chapter introduces how to model and simulate diffusion systems.\n",
    "First we will look at how to describe the diffusive motion of molecules\n",
    "by using object of class [steps.model.Diff](API_model.rst#steps.model.Diff), then how to import\n",
    "a tetrahedral mesh by using the [steps.utilities.meshio](API_utilities_meshio.rst#steps.utilities.meshio) methods\n",
    "and finally how to create a [steps.solver.Tetexact](API_solver.rst#steps.solver.Tetexact) object to be used for\n",
    "the simulation itself. The `Tetexact` solver builds on the `Wmdirect` solver\n",
    "(we have used up until now) extended for diffusive fluxes between tetrahedral\n",
    "elements in a mesh. Each individual tetrahedron behaves like a well-mixed\n",
    "compartment where reactions can take place. Diffusive flux between\n",
    "tetrahedral elements is represented by a series of first-order reactions\n",
    "with rate constants derived from the local geometry and the diffusion\n",
    "constant parameter. Thus, this solver object can be used to simulate\n",
    "full reaction-diffusion systems in complex geometries, but in this introduction\n",
    "we will start with a simple diffusion system.\n",
    "\n",
    "We wish to simulate diffusion of one molecular species from a point source\n",
    "in an infinite volume, a problem chosen for simplicity and with a known analytical\n",
    "solution we can compare to our STEPS simulation results. As the volume in STEPS\n",
    "must of course be finite we will create a large spherical mesh, inject our\n",
    "molecules into the central tetrahedron (as there is no concept of a point\n",
    "source in STEPS) and compare our results to the analytical solution up to a\n",
    "time when there are zero or an insignificant number of boundary events.\n",
    "\n",
    "## Analytical solution\n",
    "\n",
    "To compare our mean results in STEPS to an analytical solution we must solve\n",
    "the diffusion equation for one spatial dimension, the radial distance from the\n",
    "point source. The problem is simplified to one dimension because the symmetry\n",
    "of the problem dictates that, in the deterministic limit, the concentration at any given radial distance r\n",
    "from the point source will be equal at all points in space forming a\n",
    "two-dimensional “shell” at that *r*.\n",
    "\n",
    "If all molecules exist at a single point at time 0, within an infinite boundary,\n",
    "the analytical solution is (see e.g. Crank, J. (1975) The Mathematics of Diffusion.\n",
    "Oxford: Clarendon Press):\n",
    "\n",
    "\\begin{equation}\n",
    "C(r,t)=\\frac{N}{8(\\pi Dt)^{3/2}}\\exp\\left(\\frac{-r^{2}}{4Dt}\\right)\n",
    "\\end{equation}\n",
    "\n",
    "where *C* is the concentration (if length units are meters the units of C are number of molecules/ $m^{\\text{3}}$)\n",
    "at radial distance *r*  from source at time *t*, *N* is the total number of injected\n",
    "molecules and *D* is the diffusion constant (in units $m^{\\text{2}}/s$) .\n",
    "\n",
    "## Modelling solution\n",
    "\n",
    "### Organisation of code\n",
    "\n",
    "To set up our model and run our simulation we will create a Python script,\n",
    "organising the script according to a certain template chosen for a good\n",
    "organisation of our workflow. However, for clarity, in these examples we\n",
    "will show the code as if it was typed at the Python prompt. As in previous\n",
    "chapters we will go through the code step by step and look at the statements in\n",
    "detail as we go.\n",
    "\n",
    "The first thing to do is to write statements to import all our steps packages\n",
    "with all the methods available to describe our model and run our simulation.\n",
    "We will also import other packages we require at this point in the script,\n",
    "such as `math`, `numpy`, `pylab` and `random`. We will make use of the `random` package\n",
    "to help with selecting tetrahedrons from our mesh to sample (which we look at\n",
    "in detail later) and `math` contains many useful basic mathematical functions we'll use\n",
    "for finding the analytical solution:\n"
   ]
  },
  {
   "cell_type": "code",
   "execution_count": 1,
   "metadata": {},
   "outputs": [],
   "source": [
    "import math\n",
    "import numpy\n",
    "import pylab\n",
    "import random\n",
    "import time\n",
    "\n",
    "import steps.model as smodel\n",
    "import steps.solver as solvmod\n",
    "import steps.geom as stetmesh\n",
    "import steps.rng as srng"
   ]
  },
  {
   "cell_type": "markdown",
   "metadata": {},
   "source": [
    "Now we set some parameters for our simulation. By keeping these variables grouped\n",
    "together at the beginning of a Python script we would make it easy to locate and\n",
    "change these simulation parameters if we wished to. We will use capital letters\n",
    "for the variables here so it is clear later in the script that they are constants:\n"
   ]
  },
  {
   "cell_type": "code",
   "execution_count": 2,
   "metadata": {},
   "outputs": [],
   "source": [
    "# The number of iterations to run\n",
    "NITER = 10\n",
    "\n",
    "# The data collection time increment (s)\n",
    "DT = 0.001\n",
    "\n",
    "# The simulation endtime (s)\n",
    "INT = 0.101\n",
    "\n",
    "# The number of molecules to be injected into the centre\n",
    "NINJECT = 10000\n",
    "\n",
    "# The number of tetrahedral elements to sample data from.\n",
    "SAMPLE = 2000\n",
    "\n",
    "# The diffusion constant for our diffusing species (m^2/s)\n",
    "DCST = 20.0e-12"
   ]
  },
  {
   "cell_type": "markdown",
   "metadata": {},
   "source": [
    "At what stage these constants will be used will become clear as we work\n",
    "through the code.\n",
    "\n",
    "We want to sample data from individual tetrahedrons so we can analyse spatial\n",
    "data, so we now create two objects to store the indices and radial distance from\n",
    "center of the mesh tetrahedrons we will sample.  **Note**: *Tetrahedrons are identified by an integer index (as are nodes and\n",
    "   triangles). We look at this in more detail in the geometry section.*\n",
    "\n",
    "We have decided in this case that\n",
    "we don't want to save data for every single tetrahedron, but rather randomly\n",
    "select 2000 tetrahedrons by setting the SAMPLE variable to 2000, perhaps due to memory constraints.\n",
    "We will look at how we select which tetrahedrons to sample in [Geometry specification](diffusion.ipynb#Geometry-specification)\n",
    ", but for now we just create NumPy arrays initialized to zeros.\n",
    "The reason for creating these arrays at this point in the script will become\n",
    "clear later:\n"
   ]
  },
  {
   "cell_type": "code",
   "execution_count": 3,
   "metadata": {},
   "outputs": [],
   "source": [
    "# Array to hold tetrahedron indices (integers)\n",
    "tetidxs = numpy.zeros(SAMPLE, dtype='int')\n",
    "\n",
    "# Array to hold tetrahedron radial distances (floats)\n",
    "tetrads = numpy.zeros(SAMPLE)"
   ]
  },
  {
   "cell_type": "markdown",
   "metadata": {},
   "source": [
    "### Model specification\n",
    "\n",
    "So we now move on to our model description. This time we will organise the code\n",
    "into a function, which will return the [steps.model.Model](API_model.rst#steps.model.Model) object we create. It is\n",
    "entirely up to you if you wish to organise your model description in this way,\n",
    "but it can be useful for larger models. **Note**: *In this way, for example, multiple model descriptions can be defined\n",
    "   in a separate module with each description clearly separated inside functions.\n",
    "   You can then import whichever model description objects you chose into the\n",
    "   simulation scripts. We will not explore this topic in detail here, but it is a\n",
    "   good idea to keep in mind that this organisation is an option.*\n",
    "\n",
    "This is our first function\n",
    "definition, so lets mention a little about the syntax for defining functions in\n",
    "Python. Firstly, we use the `def` statement to create a function object and assign\n",
    "it a name. Then we must provide all our function code with the same indentation.\n",
    "As soon as our indentation returns to the indentation for the `def` statement, we\n",
    "exit the function definition. We wish to return our [steps.model.Model](API_model.rst#steps.model.Model) object,\n",
    "so we will provide a `return` statement at the end of the function. First we create\n",
    "our function and name it `gen_model`. In this simple example the function will not\n",
    "require any arguments, so its signature will be `gen_model()`.\n",
    "\n",
    "We start, as always, by creating our [steps.model.Model](API_model.rst#steps.model.Model) container object `mdl`. "
   ]
  },
  {
   "cell_type": "code",
   "execution_count": 4,
   "metadata": {},
   "outputs": [],
   "source": [
    "mdl = smodel.Model()    "
   ]
  },
  {
   "cell_type": "markdown",
   "metadata": {},
   "source": [
    "Then we create our molecular species (only one in this simple model we will call `A`) and our volume system `vsys`, much as in previous chapters."
   ]
  },
  {
   "cell_type": "code",
   "execution_count": 5,
   "metadata": {},
   "outputs": [],
   "source": [
    "A = smodel.Spec('A', mdl)    \n",
    "vsys = smodel.Volsys('cytosolv', mdl)"
   ]
  },
  {
   "cell_type": "markdown",
   "metadata": {},
   "source": [
    "After that we can create our diffusion rule. In STEPS this means creating a [steps.model.Diff](API_model.rst#steps.model.Diff)\n",
    "object and assigning it to a volume system ([steps.model.Volsys](API_model.rst#steps.model.Volsys)). As well as the usual identifier string and a reference to the parent volume system, a required parameter for the object construction is a reference to the molecular species object to which this diffusion rule applies. An optional parameter to the object constructor is the diffusion constant, which is given in s.i. units (i.e. $m^{2}/s$ so for example a diffusion constant of $100 \\mu m^{2}/s = 100*10^{-12} m^{\\text{2}}/s$).\n",
    "\n",
    "The default value for the diffusion constant can be changed with object method\n",
    "[steps.model.Diff.setDcst](API_model.rst) and can even be changed from the default value in any compartment during simulation, much like the reaction constants we looked at in previous chapters. However, in\n",
    "this model we will not alter the diffusion constant later in the script, so this\n",
    "is the value that will be used during our simulation. Recall we defined the diffusion constant at the beginning or our script, the reason for which is that this value is available in a variable when we come to finding the analytical solution."
   ]
  },
  {
   "cell_type": "code",
   "execution_count": 6,
   "metadata": {},
   "outputs": [],
   "source": [
    "diff_A = smodel.Diff('diff_A', vsys, A)\n",
    "diff_A.setDcst(DCST)"
   ]
  },
  {
   "cell_type": "markdown",
   "metadata": {},
   "source": [
    "So our complete function is:"
   ]
  },
  {
   "cell_type": "code",
   "execution_count": 7,
   "metadata": {},
   "outputs": [],
   "source": [
    "def gen_model():    \n",
    "    mdl = smodel.Model()    \n",
    "    A = smodel.Spec('A', mdl)    \n",
    "    vsys = smodel.Volsys('cytosolv', mdl)\n",
    "    diff_A = smodel.Diff('diff_A', vsys, A)\n",
    "    diff_A.setDcst(DCST)\n",
    "    return mdl "
   ]
  },
  {
   "cell_type": "markdown",
   "metadata": {},
   "source": [
    "### Geometry specification\n",
    "\n",
    "We now move on to describing our geometry. This is the section that stands out as\n",
    "very different to our previous well-mixed simulations. The methods we\n",
    "provide for describing mesh-based geometry in STEPS give tools for importing meshes\n",
    "from some powerful mesh-generation packages, and methods for initialising and\n",
    "controlling your simulation conditions which are beyond the ground covered in this\n",
    "chapter. It is likely that you will only start to get the feel of how to use these\n",
    "methods to achieve your required description in more complex models with hands-on\n",
    "experience. This chapter begins to introduce some useful methods for mesh\n",
    "manipulation and it is hoped that this will give the user enough experience with\n",
    "the workflow to be able to go on to more advanced object manipulation that may be\n",
    "required for more complex models. A full list of tetrahedral mesh methods is\n",
    "available in [steps.geom.Tetmesh](API_geom.rst#steps.geom.Tetmesh) and [steps.utilities.meshio](API_utilities_meshio.rst#steps.utilities.meshio).\n",
    "\n",
    "We chose to structure all our geometry code into a function, much like our model description. "
   ]
  },
  {
   "cell_type": "markdown",
   "metadata": {},
   "source": [
    "We start by loading our mesh object. STEPS provides all mesh loading and saving tools in\n",
    "module [steps.utilities.meshio](API_utilities_meshio.rst#steps.utilities.meshio). This module currently provides support for\n",
    "[TetGen](http://wias-berlin.de/software/index.jsp?id=TetGen), [CUBIT](http://cubit.sandia.gov/) and\n",
    "[NETGEN](http://www.hpfem.jku.at/netgen/) mesh generators, along with any\n",
    "others supporting the Abaqus output format. The details of creating a mesh\n",
    "from these 3rd party packages and importing into STEPS are beyond the scope of\n",
    "this chapter, however we provide a full list of meshio methods in [steps.utilities.meshio](API_utilities_meshio.rst#steps.utilities.meshio).\n",
    "One of the functions provided in meshio is [steps.utilities.meshio.saveMesh](API_utilities_meshio.rst#steps.utilities.meshio.saveMesh), which allows the user to\n",
    "save the imported mesh in STEPS format. This is important because the information\n",
    "passed on from the mesh generators is often only very basic information about the\n",
    "mesh and STEPS must find a vast amount of information to pass on to the [steps.solver.Tetexact](API_solver.rst#steps.solver.Tetexact)\n",
    "reaction-diffusion solver object internally. This can be time-consuming for large\n",
    "meshes, however this process only needs to be performed once. With [steps.utilities.meshio.saveMesh](API_utilities_meshio.rst#steps.utilities.meshio.saveMesh) the\n",
    "mesh is saved with basic information in an XML file, with an accompanying ASCII file\n",
    "containing all the extra information STEPS computed when importing the mesh. After\n",
    "these files have been created, the mesh can then be imported with the [steps.utilities.meshio.loadMesh](API_utilities_meshio.rst#steps.utilities.meshio.loadMesh)\n",
    "method, which will only take a few seconds or minutes to load even very large\n",
    "meshes. Therefore, it is highly recommended that all meshes are saved in this way\n",
    "by using the [steps.utilities.meshio.saveMesh](API_utilities_meshio.rst#steps.utilities.meshio.saveMesh) function. For this example we assume that we have mesh\n",
    "files `sphere_rad10_11Ktets.xml` and `sphere_rad10_11Ktets.txt` available in folder `meshes/` in the current working\n",
    "directory, which we created previously with [steps.utilities.meshio.saveMesh](API_utilities_meshio.rst#steps.utilities.meshio.saveMesh) from a mesh we imported from\n",
    "a mesh-generator with the [steps.utilities.meshio.importAbaqus](API_utilities_meshio.rst#steps.utilities.meshio.importAbaqus) function. \n"
   ]
  },
  {
   "cell_type": "code",
   "execution_count": 8,
   "metadata": {},
   "outputs": [],
   "source": [
    "import steps.utilities.meshio as smeshio\n",
    "mesh = smeshio.loadMesh('meshes/sphere_rad10_11Ktets')[0]"
   ]
  },
  {
   "cell_type": "markdown",
   "metadata": {},
   "source": [
    "Our tetrahedral mesh geometry object is very different from our well-mixed geometry\n",
    "([steps.geom.Geom](API_geom.rst#steps.geom.Geom)) object. The mesh geometry is described by a\n",
    "[steps.geom.Tetmesh](API_geom.rst#steps.geom.Tetmesh) object, which contains all the functionality of a\n",
    "[steps.geom.Geom](API_geom.rst#steps.geom.Geom) object, extended with many more methods which only make sense\n",
    "for a tetrahedral mesh. A [steps.geom.Tetmesh](API_geom.rst#steps.geom.Tetmesh) object is created in [steps.utilities.meshio.loadMesh](API_utilities_meshio.rst#steps.utilities.meshio.loadMesh)\n",
    "and returned to the caller, so in the above code the object is referenced by\n",
    "variable `mesh`. We will be introduced to some of the [steps.geom.Tetmesh](API_geom.rst#steps.geom.Tetmesh) methods as we find our\n",
    "sample tetrahedrons, but first we must create our mesh compartments. A compartment\n",
    "object in a mesh is of type [steps.geom.TmComp](API_geom.rst#steps.geom.TmComp) and requires a little extra\n",
    "information than a well-mixed compartment.\n",
    "\n",
    "A tetrahedral-mesh compartment is comprised of a group of tetrahedrons, so we must supply the object constructor\n",
    "with the indices of the enclosed tetrahedrons in a Python sequence (e.g. a list).\n",
    "A mesh can be separated into as many compartments as the user wishes,\n",
    "though compartments should usually be separated physically by a boundary\n",
    "(i.e. by a membrane) as *there is no implicit diffusion between compartments\n",
    "in STEPS, unless connected by a Diffusion Boundary (see* [Diffusion Boundary](diffusion_boundary.ipynb#diffusion_boundary) *)*.\n",
    "\n",
    "If a user wishes to modify behaviour for certain sections of a compartment, this can be achieved by grouping\n",
    "tetrahedrons together and utilising the simulation methods, all achievable in\n",
    "the Python interface (see [steps.solver.Tetexact](API_solver.rst#steps.solver.Tetexact) for all available methods). However,\n",
    "for our example we only wish to have one compartment, and for that compartment\n",
    "to enclose the entire mesh. So we use a [steps.geom.Tetmesh](API_geom.rst#steps.geom.Tetmesh) object method to\n",
    "return the number of tetrahedrons in the mesh, and then pass a sequence of all\n",
    "the indices to the [steps.geom.TmComp](API_geom.rst#steps.geom.TmComp) object constructor. **Note**: *Tetrahedron indices in STEPS always begin at 0 and increment by 1, regardless of their indices in the mesh-generation software. So if a mesh has n tetrahedrons, we can use the Python function range(n) will return a sequence* `[0, 1, ..., n-1]`  *and iterate through each of the tetrahedrons in the mesh.*"
   ]
  },
  {
   "cell_type": "code",
   "execution_count": 9,
   "metadata": {},
   "outputs": [],
   "source": [
    "# Find the total number of tetrahedrons in the mesh\n",
    "ntets = mesh.countTets()\n",
    "# Create a compartment containing all tetrahedrons\n",
    "comp = stetmesh.TmComp('cyto', mesh, range(ntets))\n",
    "comp.addVolsys('cytosolv')"
   ]
  },
  {
   "cell_type": "markdown",
   "metadata": {},
   "source": [
    "Note that we do not (and indeed can not) set the volume of the compartment because\n",
    "the volume is calculated from the combined volume of the enclosed tetrahedrons.\n",
    "\n",
    "And that's it for our relatively simple geometry description. The remainder of our `gen_geom()` function\n",
    "is used to collect, at random, the tetrahedrons to sample data from. This is\n",
    "introduced here because it is often undesirable to collect data from all\n",
    "tetrahedrons in large meshes and the user may wish to pick and chose certain\n",
    "tetrahedrons to sample. Such groups can be stored in a Python sequence with for\n",
    "loops used to loop over these groups and set simulation parameters or collect data.\n",
    "In this simple example we will just store the central tetrahedron and it's 4\n",
    "neighbours, then find the rest at random, making sure not to store the same\n",
    "tetrahedron more than once. We will store the sample tetrahedron indices in the\n",
    "`tetidxs` NumPy array we created at the top of our script. Along the way we will\n",
    "be introduced to some new [steps.geom.Tetmesh](API_geom.rst#steps.geom.Tetmesh) methods, which will be described as\n",
    "we go along. This section is intended to be only an introduction to finding\n",
    "information from the mesh, though a full list of the many Tetmesh methods that can\n",
    "be used for more complex tasks is available in [steps.geom.Tetmesh](API_geom.rst#steps.geom.Tetmesh). First, we use the\n",
    "[steps.geom.Tetmesh.findTetByPoint](API_geom.rst#steps.geom.Tetmesh.findTetByPoint) method to get the index of the tetrahedron in the centre of our\n",
    "mesh. [steps.geom.Tetmesh.findTetByPoint](API_geom.rst#steps.geom.Tetmesh.findTetByPoint) returns the tetrahedron by index that encompasses the\n",
    "location given in Cartesian coordinates (in a Python sequence of length 3), and returns `-1` if the location\n",
    "given is not inside the mesh. The mesh is a sphere, radius 10 microns, centered\n",
    "on the origin, so the centre of the mesh is simply at 0.0, 0.0, 0.0 in Cartesian\n",
    "coordinates. The returned idx is stored in our `tetidxs` array:"
   ]
  },
  {
   "cell_type": "code",
   "execution_count": 10,
   "metadata": {},
   "outputs": [],
   "source": [
    "# Fetch the central tetrahedron index and store:\n",
    "ctetidx = mesh.findTetByPoint([0.0, 0.0, 0.0])\n",
    "tetidxs[0] = ctetidx"
   ]
  },
  {
   "cell_type": "markdown",
   "metadata": {},
   "source": [
    "Next we wish to make sure that we include data from around the central tetrahedron,\n",
    "so we find the central tetrahedron's four neighbours. To do this we use method\n",
    "[steps.geom.Tetmesh.getTetTetNeighb](API_geom.rst#steps.geom.Tetmesh.getTetTetNeighb), which returns any tetrahedron's 4 neighbours by index in a\n",
    "tuple. If any neighbour index is returned as -1 this means that this face of the\n",
    "tetrahedron is on the boundary and therefore has no neighbour in that direction. **Note**: *This property can be very useful if you wish to find information\n",
    "   about border tetrahedrons or surface triangles.*\n",
    "\n",
    "In this example it is safe to assume that the central tetrahedron is not\n",
    "on a surface and we  add our 4 neighbour indices to our `tetidxs` array:"
   ]
  },
  {
   "cell_type": "code",
   "execution_count": 11,
   "metadata": {},
   "outputs": [],
   "source": [
    "# Find the central tetrahedron's four neighbours:\n",
    "neighbidcs = mesh.getTetTetNeighb(ctetidx)\n",
    "tetidxs[1],tetidxs[2],tetidxs[3],tetidxs[4] = neighbidcs"
   ]
  },
  {
   "cell_type": "markdown",
   "metadata": {},
   "source": [
    "Then we fill the rest of our tetidxs array with tetrahedrons chosen at random.\n",
    "A way to do this would be to simply fetch one randomly-generated number between\n",
    "0 and 1 and pick the nearest integer that it corresponds to when multiplied by\n",
    "the total number of tetrahedrons. However, the following technique is a different\n",
    "approach and finds a random point in space in the 3D bounding box of the mesh and\n",
    "stores the corresponding tetrahedron index if it not already stored (and the point\n",
    "is not outside the mesh). This would then make it easier to provide a bias towards\n",
    "the center of the mesh in order to get a more even distribution of radial distances,\n",
    "but this is not shown in this simple example. We will use methods [steps.geom.Tetmesh.getBoundMax](API_geom.rst#steps.geom.Tetmesh.getBoundMax) \n",
    "and [steps.geom.Tetmesh.getBoundMin](API_geom.rst#steps.geom.Tetmesh.getBoundMin), which return the maximum and minimum Cartesian coordinates\n",
    "of the mesh respectively."
   ]
  },
  {
   "cell_type": "code",
   "execution_count": 12,
   "metadata": {},
   "outputs": [],
   "source": [
    "# Keep track how many tet indices we have stored so far\n",
    "stored = 5\n",
    "\n",
    "# Find the maximum and minimum coordinates of the mesh:\n",
    "max = mesh.getBoundMax()\n",
    "min = mesh.getBoundMin()\n",
    "\n",
    "# Run a loop until we have stored all tet indices we require\n",
    "while (stored < SAMPLE):\n",
    "\n",
    "    # Fetch 3 random numbers between 0 and 1:\n",
    "    rnx = random.random()\n",
    "    rny = random.random()\n",
    "    rnz = random.random()\n",
    "\n",
    "    # Find the related coordinates in the mesh:\n",
    "    xcrd = min[0] + (max[0]-min[0])*rnx\n",
    "    ycrd = min[1] + (max[1]-min[1])*rny\n",
    "    zcrd = min[2] + (max[2]-min[2])*rnz\n",
    "\n",
    "    # Find the tetrahedron that encompasses this point:\n",
    "    tidx = mesh.findTetByPoint([xcrd, ycrd, zcrd])\n",
    "\n",
    "    # -1 was returned if point is outside the mesh\n",
    "    if (tidx == stetmesh.UNKNOWN_TET): continue\n",
    "    if (tidx not in tetidxs):\n",
    "        tetidxs[stored] = tidx\n",
    "        stored += 1"
   ]
  },
  {
   "cell_type": "markdown",
   "metadata": {},
   "source": [
    "This example is intended to demonstrate that there is a lot of functionality\n",
    "in STEPS to enable you to find and store whatever spatial information is required\n",
    "that could not be passed on from the mesh generator, and that some knowledge of\n",
    "Python is very useful at this stage to enable you to produce code to get maximum\n",
    "benefit from the available methods. This geometry description stage is a good time\n",
    "to find and collect whatever spatial information is required for simulation\n",
    "initialization and data collection. We should note that in this example there is\n",
    "little error checking and more should be included in real simulation scripts\n",
    "(for example SAMPLE must be lower than the total number of tetrahedrons in the mesh).\n",
    "For a full list of the available methods please see [steps.geom.Tetmesh](API_geom.rst#steps.geom.Tetmesh).\n",
    "\n",
    "Now, the final task we wish to perform at the geometry level\n",
    "is to find the radial distances of the tetrahedrons and fill our `tetrads` array\n",
    "with this information. These are stored separately from the indices in our example (for clarity)\n",
    "and we must make sure that the distances saved\n",
    "relate to the distance for the tetrahedron at the same location in the `tetidxs`\n",
    "array, although we could easily have stored the indices and radial distances\n",
    "together in a 2D array. We will take the radial distance as the distance from\n",
    "the tetrahedron's barycenter to the barycenter of the central tetrahedron.\n",
    "To find the barycenters we use method  [steps.geom.Tetmesh.getTetBarycenter](API_geom.rst#steps.geom.Tetmesh.getTetBarycenter), which returns the\n",
    "barycenter Cartesian coordinates in a tuple."
   ]
  },
  {
   "cell_type": "code",
   "execution_count": 13,
   "metadata": {},
   "outputs": [],
   "source": [
    "# Find the barycenter of the central tetrahedron\n",
    "cbaryc = mesh.getTetBarycenter(ctetidx)\n",
    "\n",
    "for i in range(SAMPLE):\n",
    "    # Fetch the barycenter of the tetrahedron:\n",
    "    baryc = mesh.getTetBarycenter(tetidxs[i])\n",
    "\n",
    "    # Find the radial distance of this tetrahedron to mesh centre:\n",
    "    r = math.sqrt(math.pow((baryc[0]-cbaryc[0]),2) \\\n",
    "                    + math.pow((baryc[1]-cbaryc[1]),2) \\\n",
    "                        + math.pow((baryc[2]-cbaryc[2]),2))\n",
    "\n",
    "    # Store the radial distance (in microns):\n",
    "    tetrads[i] = r*1.0e6"
   ]
  },
  {
   "cell_type": "markdown",
   "metadata": {},
   "source": [
    "Finally, we return the [steps.geom.Tetmesh](API_geom.rst#steps.geom.Tetmesh) object required for simulation object construction.\n",
    "\n",
    "The complete function then reads as follows."
   ]
  },
  {
   "cell_type": "code",
   "execution_count": 14,
   "metadata": {},
   "outputs": [],
   "source": [
    "import steps.utilities.meshio as smeshio\n",
    "\n",
    "def gen_geom():\n",
    "\n",
    "    print(\"Loading mesh...\")\n",
    "    mesh = smeshio.loadMesh('meshes/sphere_rad10_11Ktets')[0]\n",
    "    print(\"Mesh Loaded\")\n",
    "\n",
    "    # Find the total number of tetrahedrons in the mesh    \n",
    "    ntets = mesh.countTets()\n",
    "    # Create a compartment containing all tetrahedrons\n",
    "    comp = stetmesh.TmComp('cyto', mesh, range(ntets))\n",
    "    comp.addVolsys('cytosolv')\n",
    "    \n",
    "    print(\"Finding tetrahedron samples...\")\n",
    "    # Fetch the central tetrahedron index and store:\n",
    "    ctetidx = mesh.findTetByPoint([0.0, 0.0, 0.0])\n",
    "    tetidxs[0] = ctetidx\n",
    "    \n",
    "    # Find the central tetrahedron's four neighbours:\n",
    "    neighbidcs = mesh.getTetTetNeighb(ctetidx)\n",
    "    tetidxs[1:5] = neighbidcs\n",
    "    \n",
    "    # Keep track how many tet indices we have stored so far\n",
    "    stored = 5 \n",
    "    \n",
    "    # Find the maximum and minimum coordinates of the mesh\n",
    "    max = mesh.getBoundMax()\n",
    "    min = mesh.getBoundMin()\n",
    "    \n",
    "    # Run a loop until we have stored all tet indices we require\n",
    "    while stored < SAMPLE:\n",
    "    \n",
    "        # Fetch 3 random numbers between 0 and 1\n",
    "        rnx = random.random()\n",
    "        rny = random.random()\n",
    "        rnz = random.random()  \n",
    "    \n",
    "        # Find the coordinates in the mesh that these numbers relate to\n",
    "        xcrd = min[0] + (max[0] - min[0]) * rnx\n",
    "        ycrd = min[1] + (max[1] - min[1]) * rny\n",
    "        zcrd = min[2] + (max[2] - min[2]) * rnz\n",
    "\n",
    "        # Find the tetrahedron that encompasses this point.\n",
    "        tidx = mesh.findTetByPoint([xcrd, ycrd, zcrd])\n",
    "\n",
    "        # -1 was returned if point is outside the mesh:\n",
    "        if tidx == stetmesh.UNKNOWN_TET: continue\n",
    "        if tidx not in tetidxs:\n",
    "            tetidxs[stored] = tidx\n",
    "            stored += 1\n",
    "\n",
    "    # Find the barycenter of the central tetrahedron\n",
    "    cbaryc = mesh.getTetBarycenter(ctetidx)\n",
    "\n",
    "    for i in range(SAMPLE):\n",
    "        # Fetch the barycenter of the tetrahedron:\n",
    "        baryc = mesh.getTetBarycenter(int(tetidxs[i]))\n",
    "\n",
    "        # Find the radial distance of this tetrahedron to mesh center:\n",
    "        r = math.sqrt(math.pow((baryc[0] - cbaryc[0]), 2) + \\\n",
    "                      math.pow((baryc[1] - cbaryc[1]), 2) + \\\n",
    "                      math.pow((baryc[2] - cbaryc[2]), 2))\n",
    "\n",
    "        # Store the radial distance (in microns):\n",
    "        tetrads[i] = r * 1.0e6\n",
    "\n",
    "    print(\"Tetrahedron samples found\")\n",
    "\n",
    "    return mesh"
   ]
  },
  {
   "cell_type": "markdown",
   "metadata": {},
   "source": [
    "### Simulation with `Tetexact`\n",
    "\n",
    "Now it’s time to run a simulation and visualize the collected data, much as we did in previous chapters, though this time collecting and plotting spatial data, that is concentrations from individual tetrahedrons and not whole compartments. This time we must call the `gen_model` and `gen_geom` functions to set up our model and return the container objects. We then create our random number generator object just as for the `Wmdirect` simulations."
   ]
  },
  {
   "cell_type": "code",
   "execution_count": 15,
   "metadata": {},
   "outputs": [
    {
     "name": "stdout",
     "output_type": "stream",
     "text": [
      "Loading mesh...\n",
      "Mesh Loaded\n",
      "Finding tetrahedron samples...\n",
      "Tetrahedron samples found\n"
     ]
    }
   ],
   "source": [
    "model  = gen_model()\n",
    "tmgeom = gen_geom()\n",
    "rng = srng.create('mt19937', 512)\n",
    "rng.initialize(2903)"
   ]
  },
  {
   "cell_type": "markdown",
   "metadata": {},
   "source": [
    "Now we can create our reaction-diffusion [steps.solver.Tetexact](API_solver.rst#steps.solver.Tetexact) solver object, which requires a [steps.geom.Tetmesh](API_geom.rst#steps.geom.Tetmesh) object to it’s initializing function (if we try to present it with simple well-mixed geometry an error message will appear):\n"
   ]
  },
  {
   "cell_type": "code",
   "execution_count": 16,
   "metadata": {},
   "outputs": [],
   "source": [
    "sim = solvmod.Tetexact(model, tmgeom, rng)"
   ]
  },
  {
   "cell_type": "markdown",
   "metadata": {},
   "source": [
    "This solver builds on the functionality of the well-mixed solvers, with methods for manipulating certain regions in the mesh. We will see some examples in the following snippets of code, and a full list of available methods is available in [steps.solver.Tetexact](API_solver.rst#steps.solver.Tetexact). Similarly to our well-mixed simulations we must create the data structures for saving our results. We create the “time points“ array (based on parameters we set at the beginning of our script) and the “results“ array, which in this case will store data for all the tetrahedrons we are sampling:"
   ]
  },
  {
   "cell_type": "code",
   "execution_count": 17,
   "metadata": {},
   "outputs": [],
   "source": [
    "tpnts = numpy.arange(0.0, INT, DT)\n",
    "# Find how many \"time points\" we have\n",
    "ntpnts = tpnts.shape[0]\n",
    "# Create the data structure: iterations x time points x tet samples\n",
    "res = numpy.zeros((NITER, ntpnts, SAMPLE))"
   ]
  },
  {
   "cell_type": "markdown",
   "metadata": {},
   "source": [
    "We are now ready to run a simulation. This will look quite similar to our previous code for running a well-mixed simulation, but this time we are injecting molecules into and recording data from individual tetrahedrons, not the whole compartment (though this is also possible). We first need to find the central tetrahedron index again (as we did not pass this information on from the `gen_geom()` function, though this is of course an option). We then use solver method [steps.solver.Tetexact.setTetCount](API_solver.rst#steps.solver.Tetexact.setTetCount) to set the number of molecules in the central tetrahedron at time `t = 0` to the number stored in variable `NINJECT` (default number in all tetrahedrons is zero set by [steps.solver.Tetexact.reset](API_solver.rst#steps.solver.Tetexact.reset)). We will then run our simulation and collect the data in a few lines of code in nested for loops:"
   ]
  },
  {
   "cell_type": "code",
   "execution_count": 18,
   "metadata": {},
   "outputs": [],
   "source": [
    "# Fetch the index of the tetrahedron at the centre of the mesh\n",
    "ctetidx = tmgeom.findTetByPoint([0.0, 0.0, 0.0])\n",
    "# Run NITER number of iterations:\n",
    "for i in range(NITER):\n",
    "    sim.reset()\n",
    "    # Inject all molecules into the central tet:\n",
    "    sim.setTetCount(ctetidx, 'A', NINJECT)\n",
    "    for j in range(ntpnts):\n",
    "        sim.run(tpnts[j])\n",
    "        # Loop over the tetrahedrons we are saving data for\n",
    "        for k in range(SAMPLE):\n",
    "            # Save the concentration in the tetrahedron, in uM\n",
    "            res[i, j, k] = sim.getTetConc(int(tetidxs[k]), 'A') * 1.0e6"
   ]
  },
  {
   "cell_type": "markdown",
   "metadata": {},
   "source": [
    "That is all the code we require to run our simple diffusion simulation.\n",
    "\n",
    "Notice that the [steps.solver.Tetexact.getTetConc](API_solver.rst#steps.solver.Tetexact.getTetConc) returns the concentration in Molar units. Recall that all units in STEPS are s.i. units *with the exception of concentration, which is Molar units*. We then convert Molar units to micro-Molar by multiplying by $10^6$.\n",
    "\n",
    "We wish to look at the mean concentration in the tetrahedrons over all our iterations, so we simply use the `numpy.mean` function as in previous chapters:"
   ]
  },
  {
   "cell_type": "code",
   "execution_count": 19,
   "metadata": {},
   "outputs": [],
   "source": [
    "res_mean = numpy.mean(res, axis=0)"
   ]
  },
  {
   "cell_type": "markdown",
   "metadata": {},
   "source": [
    "### Plotting simulation output\n",
    "So now we come to plotting our data. Now that we have spatial information the data we wish to plot is different to our previous well-mixed simulations where we were plotting the concentration in a well-mixed compartment. We will plot the mean concentration from individual tetrahedrons against their radial distance from origin, but at many different time points. To achieve this we will create another function, this time with a parameter relating to the “time point“ we wish to plot. We can then call this function with a “time point“ argument and our function will plot concentration vs radial distance at the time relating to that “time point“, as desired. In our function we also label the axis and title the plot with the time.\n"
   ]
  },
  {
   "cell_type": "code",
   "execution_count": 20,
   "metadata": {},
   "outputs": [],
   "source": [
    "%matplotlib inline \n",
    "import matplotlib.pyplot as plt\n",
    "\n",
    "def plotres(res_mean, tidx):\n",
    "    if tidx >= INT / DT:\n",
    "        print(\"Time index is out of range.\")\n",
    "        return\n",
    "\n",
    "    plt.scatter(tetrads, res_mean[tidx], s=2)\n",
    "    plt.xlabel('Radial distance of tetrahedron ($\\mu$m)')\n",
    "    plt.ylabel('Concentration in tetrahedron ($\\mu$M)')\n",
    "    t = tpnts[tidx]\n",
    "    plt.title('Unbounded diffusion. Time: ' + str(t) + 's')\n",
    "    plotanlyt(t)\n",
    "    plt.xlim(0.0, 10.0)\n",
    "    plt.ylim(0.0)"
   ]
  },
  {
   "cell_type": "markdown",
   "metadata": {},
   "source": [
    "You may have noticed that we call a function that we have not defined yet, `plotanlyt`. This function will plot the concentration from the analytical concentration given by our equation. The function for plotting the analytical solution is provided here, but we will not go through this code in detail. Here we can see why the diffusion constant was stored in variable `DCST` at the top of our script:"
   ]
  },
  {
   "cell_type": "code",
   "execution_count": 21,
   "metadata": {},
   "outputs": [],
   "source": [
    "def plotanlyt(t):\n",
    "    segs = 100\n",
    "    anlytconc = numpy.zeros(segs)\n",
    "    radialds = numpy.zeros(segs)\n",
    "    maxrad = 0.0\n",
    "    for i in tetrads:\n",
    "        if i > maxrad: maxrad = i\n",
    "    maxrad *= 1e-6\n",
    "    intervals = maxrad / segs\n",
    "    rad = 0.0\n",
    "    for i in range(segs):\n",
    "        # Find the conc from analytical solution, and convert to mol/L         \n",
    "        anlytconc[i] = 1.0e3 * (1 / 6.022e23) * \\\n",
    "                ((NINJECT / (math.pow((4 * math.pi * DCST * t), 1.5))) * \\\n",
    "                (math.exp((-1.0 * (rad * rad)) / (4 * DCST * t))))\n",
    "        radialds[i] = rad * 1e6\n",
    "        rad += intervals\n",
    "    plt.plot(radialds, anlytconc, color='red')"
   ]
  },
  {
   "cell_type": "markdown",
   "metadata": {},
   "source": [
    "And that is everything we need to set up and run our simple diffusion simulation and plot the data, alongside the analytical solution for comparison. With this structure, it is intended that the plotting functions is called interactively, giving us the chance to visualise a number of different time plots, then save whichever plots we chose. It often makes sense to output the data to a file, then write plotting functions in separate modules that can load the saved data from these files and plot. This requires some knowledge of writing and reading files in Python, but like most operations in Python, can usually be picked up quite quickly.\n",
    "\n",
    "Let’s assume we have contained all of our unbounded diffusion code from this chapter in a Python file diffusion.py (which can be found in examples/tutorial). We can then run our simulation interactively in Python by importing the module, then visualising the data with the plotres function we defined. For this example lets provide a call to our plotres function with argument 100 meaning we will plot data at “time point“ 100 (corresponding to time 0.1s), our last “time point“:"
   ]
  },
  {
   "cell_type": "code",
   "execution_count": 22,
   "metadata": {},
   "outputs": [
    {
     "data": {
      "image/png": "[encoded data removed]",
      "text/plain": [
       "<Figure size 720x432 with 1 Axes>"
      ]
     },
     "metadata": {},
     "output_type": "display_data"
    }
   ],
   "source": [
    "plt.figure(figsize=(10,6))\n",
    "plotres(res_mean, 100)"
   ]
  },
  {
   "cell_type": "markdown",
   "metadata": {},
   "source": [
    "### Simulation with TetOpSplit\n",
    "\n",
    "Version 2.3 and later of STEPS include an approximate spatial stochastic solver called `TetOpSplit` ([steps.mpi.solver.TetOpSplit](API_mpisolver.rst#steps.mpi.solver.TetOpSplit)). This solver applies an approximation for diffusion whereas reactions are solved by the SSA. The solver is designed to approximate the exact solver, `Tetexact`, to high accuracy and may perform significantly faster then Tetexact for some models. A full description of the method is available at: [http://arxiv.org/abs/1512.03126](http://arxiv.org/abs/1512.03126). Although the method differs significantly from the exact stochastic solver, usage is very similar with only one different command necessary in this example to simulate the model with `TetOpSplit` instead of `Tetexact`. That is, instead of creating a Tetexact solver object we create a TetOpSplit solver object with the following command:\n"
   ]
  },
  {
   "cell_type": "code",
   "execution_count": 23,
   "metadata": {},
   "outputs": [
    {
     "name": "stdout",
     "output_type": "stream",
     "text": [
      "-----------------------------------------------------------------\n",
      "STEPS is running in parallel mode with  1  processes\n",
      "-----------------------------------------------------------------\n"
     ]
    }
   ],
   "source": [
    "import steps.mpi.solver as mpisolvmod\n",
    " \n",
    "sim_tos = mpisolvmod.TetOpSplit(model, tmgeom, rng, False, \\\n",
    "                                [0] * tmgeom.ntets)"
   ]
  },
  {
   "cell_type": "markdown",
   "metadata": {},
   "source": [
    "The model can be run with the exact same set of Python commands as for the previous simulation with `Tetexact`, using the reference to the `TetOpSplit` object `sim_tos,` writing over the data recorded to `NumPy` array res and recreating res_mean for use by the plotting function:"
   ]
  },
  {
   "cell_type": "code",
   "execution_count": 24,
   "metadata": {},
   "outputs": [],
   "source": [
    "# Run NITER number of iterations:\n",
    "for i in range(NITER):\n",
    "    sim_tos.reset()\n",
    "    # Inject all molecules into the central tet:\n",
    "    sim_tos.setTetCount(ctetidx, 'A', NINJECT)\n",
    "    for j in range(ntpnts):\n",
    "        sim_tos.run(tpnts[j])\n",
    "        # Loop over the tetrahedrons we are saving data for\n",
    "        for k in range(SAMPLE):\n",
    "            # Save the concentration in the tetrahedron, in uM\n",
    "            res[i, j, k] = sim_tos.getTetConc(int(tetidxs[k]), 'A') * 1.0e6\n",
    "\n",
    "res_mean = numpy.mean(res, axis=0)"
   ]
  },
  {
   "cell_type": "markdown",
   "metadata": {},
   "source": [
    "We can now plot the results obtained with `TetOpSplit`"
   ]
  },
  {
   "cell_type": "code",
   "execution_count": 25,
   "metadata": {
    "scrolled": true
   },
   "outputs": [
    {
     "data": {
      "image/png": "[encoded data removed]",
      "text/plain": [
       "<Figure size 720x432 with 1 Axes>"
      ]
     },
     "metadata": {},
     "output_type": "display_data"
    }
   ],
   "source": [
    "plt.figure(figsize=(10, 6))\n",
    "plotres(res_mean, 100)"
   ]
  }
 ],
 "metadata": {
  "kernelspec": {
   "display_name": "Python 3",
   "language": "python",
   "name": "python3"
  },
  "language_info": {
   "codemirror_mode": {
    "name": "ipython",
    "version": 3
   },
   "file_extension": ".py",
   "mimetype": "text/x-python",
   "name": "python",
   "nbconvert_exporter": "python",
   "pygments_lexer": "ipython3",
   "version": "3.6.9"
  }
 },
 "nbformat": 4,
 "nbformat_minor": 2
}
