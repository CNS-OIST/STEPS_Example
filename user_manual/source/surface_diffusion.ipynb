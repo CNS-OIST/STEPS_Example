{
 "cells": [
  {
   "cell_type": "markdown",
   "metadata": {},
   "source": [
    "# Simulating Diffusion on Surfaces\n",
    "\n",
    "The simulation scripts described in this chapter is available at [STEPS_Example repository](https://github.com/CNS-OIST/STEPS_Example/blob/master/user_manual/source/surface_diffusion.ipynb).\n",
    "\n",
    "This chapter introduces how to model and simulate surface diffusion systems. In STEPS, surface diffusion means\n",
    "movement of molecules between triangle elements within a patch and is used to model e.g. mobility of surface receptors\n",
    "within membranes.\n",
    "\n",
    "In practice, simulating diffusion in surfaces is analogous to simulating diffusion in volumes as introduced in [Simulating Diffusion in Volumes](diffusion.ipynb),\n",
    "replacing volume system with surface system and compartment with patch. This section will demonstrate the simple case of free diffusion from\n",
    "a source on a large circular surface, which is somewhat analogous to free diffusion in a sphere described in [Simulating Diffusion in Volumes](diffusion.ipynb). Therefore the\n",
    "code in this chapter has obvious similarities to that in [Simulating Diffusion in Volumes](diffusion.ipynb) and we will not dwell on familiar concepts, but will focus on the key differences instead.\n",
    "\n",
    "After running the spatial stochastic simulation in familiar solver 'Tetexact', we are then introduced to spatial deterministic solver 'TetODE' ([steps.solver.TetODE](API_solver.rst#steps.solver.TetODE)).\n",
    "\n",
    "## Analytical solution\n",
    "\n",
    "In the deterministic limit, C, the number of diffusing molecules per unit area, at a distance\n",
    "r from a point source on an infinite plane surface\n",
    "at time *t* is (Crank, J. (1975) The Mathematics of Diffusion. Oxford: Clarendon Press):\n",
    "\n",
    "\\begin{equation}\n",
    "    C(r,t)=\\frac{N}{4\\pi Dt}\\exp\\left(\\frac{-r^{2}}{4Dt}\\right)\n",
    "\\end{equation}\n",
    "\n",
    "\n",
    "where *N* is the total number of injected molecules and *D* is the diffusion constant (in units $m^{\\text{2}}/s$ if length units are metres and time units seconds).\n",
    "\n",
    "\n",
    "## Modelling solution\n",
    "\n",
    "### Organisation of code\n",
    "\n",
    "As for previous models we will create a Python script to run the surface diffusion model. Since we're now familiar with the concept of\n",
    "building Python scripts to run STEPS models we will no longer use the Python prompt syntax.\n",
    "\n",
    "First we import STEPS modules and other modules `pylab` and `math`:\n"
   ]
  },
  {
   "cell_type": "code",
   "execution_count": 1,
   "metadata": {
    "collapsed": true
   },
   "outputs": [],
   "source": [
    "import steps.model as smodel\n",
    "import steps.geom as stetmesh\n",
    "import steps.utilities.meshio as smeshio\n",
    "import steps.rng as srng\n",
    "import steps.solver as solvmod\n",
    "\n",
    "import pylab\n",
    "import math"
   ]
  },
  {
   "cell_type": "markdown",
   "metadata": {},
   "source": [
    "Then we set some constants. This time we will run 100 iterations of the simulation, running each iteration to 21 seconds recording data every 1 second,\n",
    "each time injecting 1000 molecules which will diffuse by diffusion constant of 0.08 square microns per second:\n"
   ]
  },
  {
   "cell_type": "code",
   "execution_count": 2,
   "metadata": {
    "collapsed": true
   },
   "outputs": [],
   "source": [
    "# Number of iterations; plotting dt; sim endtime:\n",
    "NITER = 100\n",
    "\n",
    "# The data collection time increment (s)\n",
    "DT = 1.0\n",
    "\n",
    "# The simulation endtime (s)\n",
    "INT = 21.0\n",
    "\n",
    "# Number of molecules injected in centre\n",
    "NINJECT = 1000\n",
    "\n",
    "# The diffusion constant for our diffusing species (m^2/s)\n",
    "DCST = 0.08e-12"
   ]
  },
  {
   "cell_type": "markdown",
   "metadata": {},
   "source": [
    "### Model specification\n",
    "\n",
    "Now we move on to constructing the biochemical model which, as in [Simulating Diffusion in Volumes](diffusion.ipynb), we will organise into a small function that returns the\n",
    "important [steps.model.Model](API_model.rst#steps.model.Model) container object. First we'll look at the complete function:\n"
   ]
  },
  {
   "cell_type": "code",
   "execution_count": 3,
   "metadata": {
    "collapsed": true
   },
   "outputs": [],
   "source": [
    "def gen_model():\n",
    "    mdl = smodel.Model()\n",
    "    A = smodel.Spec('A', mdl)\n",
    "    ssys = smodel.Surfsys('ssys', mdl)\n",
    "    diff_A = smodel.Diff('diffA', ssys, A,  DCST)\n",
    "    return mdl"
   ]
  },
  {
   "cell_type": "markdown",
   "metadata": {},
   "source": [
    "Which looks remarkably similar to the model specification function in [Simulating Diffusion in Volumes](diffusion.ipynb), but with one important difference. If we look closely at these lines we see that this time the diffusion rule belongs to a `surface system`. This is the only difference between creating a diffusion rule for a volume (compartment)\n",
    "or a surface (patch): if the diffusion rule belongs to a volume system (as in [Simulating Diffusion in Volumes](diffusion.ipynb)) the diffusion rule will determine how the specified molecular\n",
    "species diffuse in any compartments to which that volume system is added, and if the diffusion rule belongs to a surface system ([steps.model.Surfsys](API_model.rst#steps.model.Surfsys) ),\n",
    "as in this example, it specifies how the species will diffuse in any patch to which that surface system is added.\n",
    "There is only one [steps.model.Diff](API_model.rst#steps.model.Diff) object that takes care of both eventualities (volume or surface diffusion), adapting behaviour depending on whether\n",
    "it belongs to a volume system or surface system. Any given species may of course diffuse in both volumes and surfaces (by different diffusion coefficients) and\n",
    "therefore may appear in both volume and surface diffusion rules in the same model.\n",
    "Since this is the same [steps.model.Diff](API_model.rst#steps.model.Diff) object as introduced in [Simulating Diffusion in Volumes](diffusion.ipynb#diffusion) its construction is similar and the same general behaviour applies.\n",
    "To reiterate, the arguments to the constructor are, in order: the usual identifier string,\n",
    "a reference to the parent surface system, a reference to the molecular species to which this diffusion\n",
    "rule applies, the diffusion constant (which is an optional parameter to the object constructor) given in s.i. units ($m^{2}/s$). This will become the\n",
    "value for this diffusion rule wherever it appears in the model. Function [steps.model.Diff.setDcst](API_model.rst#steps.model.Diff.setDcst) is another option for setting the diffusion constant.\n"
   ]
  },
  {
   "cell_type": "markdown",
   "metadata": {},
   "source": [
    "### Geometry specification\n",
    "\n",
    "The next step, as usual, is to create the geometry for the simulation which, as in the previous chapter [Simulating Diffusion in Volumes](diffusion.ipynb), will require a tetrahedral mesh\n",
    "because this is a diffusion model. This time we will use a flat disk-shaped mesh (of radius 10 microns) and run the diffusion on one of the circular faces.\n",
    "\n",
    "![The mesh used for the surface diffusion simulation](images/coin.png)\n",
    "\n",
    "\n",
    "Please see previous chapter [Simulating Diffusion in Volumes](diffusion.ipynb) for a more detailed discussion of tetrahedral mesh generation and import. Functions that have already\n",
    "been described in that chapter will not be described here in detail.\n",
    "\n",
    "The first step, within a function to group all geometry creation code, is to import the tetrahedral mesh shown in the above figure using\n",
    "function [steps.utilities.meshio.loadMesh](API_utilities.rst#steps.utilities.meshio.loadMesh), which returns a tuple with a [steps.geom.Tetmesh](API_geom.rst#steps.geom.Tetmesh) object as the 0th element.\n"
   ]
  },
  {
   "cell_type": "code",
   "execution_count": 4,
   "metadata": {
    "collapsed": true
   },
   "outputs": [],
   "source": [
    "mesh = smeshio.loadMesh('meshes/coin_10r_1h_13861')[0]"
   ]
  },
  {
   "cell_type": "markdown",
   "metadata": {},
   "source": [
    "Then we create a compartment (we’ll see why this is necessary soon) comprising all mesh tetrahedrons, which is simply a sequence of indices from 0 up to the total number of tetrahedrons in the mesh:"
   ]
  },
  {
   "cell_type": "code",
   "execution_count": 5,
   "metadata": {
    "collapsed": true
   },
   "outputs": [],
   "source": [
    "ntets = mesh.countTets()\n",
    "comp = stetmesh.TmComp('cyto', mesh, range(ntets))"
   ]
  },
  {
   "cell_type": "markdown",
   "metadata": {},
   "source": [
    "Next we go on to creating the surface 'patch' object for this mesh-based simulation, a [steps.geom.TmPatch](API_geom.rst#steps.geom.TmPatch) object. This object is comprised of a\n",
    "collection of triangles, which can be at any\n",
    "location within the tetrahedral mesh. It's important to realise that triangles appear internally in tetrahedral meshes, not only on the exterior surface, and\n",
    "internal patches comprising a collection of interior triangles (or even a combination of interior and exterior triangles) are supported in STEPS. This is\n",
    "essential to allow multiple compartment modelling by one tetrahedral mesh. For example, if a mesh represented a section of a cell separated into cytosol and\n",
    "intracellular organelle compartments, then the collection of triangles on the exterior surface might represent the cell membrane, with collections of interior\n",
    "triangles representing organelle membranes. However, in this simple example we wish to create one [steps.geom.TmPatch](API_geom.rst#steps.geom.TmPatch) object consisting of the triangles\n",
    "that make up one of the circular faces in the mesh (we choose the positive z side of this mesh which is centred on 0,0,0), and therefore consists of part of the\n",
    "exterior surface. The problem is then to find all exterior surface triangles, then keep only those triangles where all 3 vertices of the triangle have a positive\n",
    "z value. The functions we need to use are the useful function [steps.geom.Tetmesh.getSurfTris](API_geom.rst#steps.geom.Tetmesh.getSurfTris), which returns all exterior surface triangles on the\n",
    "mesh, [steps.geom.Tetmesh.getTri](API_geom.rst#steps.geom.Tetmesh.getTri), which returns the indices of the 3 vertices for any triangle, and [steps.geom.Tetmesh.getVertex](API_geom.rst#steps.geom.Tetmesh.getVertex), which\n",
    "returns the x,y,z coordinates of a vertex in a Python tuple"
   ]
  },
  {
   "cell_type": "code",
   "execution_count": 6,
   "metadata": {
    "collapsed": true
   },
   "outputs": [],
   "source": [
    "# Find the indices of the exterior surface triangles\n",
    "alltris = mesh.getSurfTris()\n",
    "# Sort patch triangles as those of positive z\n",
    "patch_tris = []\n",
    "for t in alltris:\n",
    "    vert0, vert1, vert2 = mesh.getTri(t)\n",
    "    if (mesh.getVertex(vert0)[2] > 0.0 \\\n",
    "        and mesh.getVertex(vert1)[2] > 0.0 \\\n",
    "        and mesh.getVertex(vert2)[2] > 0.0):\n",
    "        patch_tris.append(t)"
   ]
  },
  {
   "cell_type": "markdown",
   "metadata": {},
   "source": [
    "Now that we have sorted the triangles and have a list ``patch_tris`` containing the collection of circular face triangles we are interested in, we can create the\n",
    "patch for our spatial simulation: a [steps.geom.TmPatch](API_geom.rst#steps.geom.TmPatch) object. The required arguments to the constructor are, in order: a string identifier, a\n",
    "reference to the [steps.geom.Tetmesh](API_geom.rst#steps.geom.Tetmesh) container object, a sequence of the triangles that comprise this patch, and an 'inner' compartment."
   ]
  },
  {
   "cell_type": "code",
   "execution_count": 7,
   "metadata": {
    "collapsed": true
   },
   "outputs": [],
   "source": [
    "patch = stetmesh.TmPatch('patch', mesh, patch_tris, icomp = comp)\n",
    "patch.addSurfsys('ssys')"
   ]
  },
  {
   "cell_type": "markdown",
   "metadata": {},
   "source": [
    "The required 'inner' compartment concept requires a little further explanation. In STEPS only tetrahedral meshes are supported (and not, for example, purely\n",
    "triangular meshes) and therefore all patches are necessarily connected to volumes. However, a patch may be connected to only one compartment, as is the\n",
    "case here, or two compartments, as would be the case for any internal patches. Following on from convention introduced in well-mixed systems (see [Surface-Volume Reactions (Example: IP3 Model)](ip3.ipynb)),\n",
    "since distinction is necessary between the two (possible) compartments\n",
    "connected to a patch they are arbitrarily labelled as 'inner' and 'outer'. If the patch is connected to only one compartment that compartment must\n",
    "be labelled as the 'inner' compartment to the patch since `icomp` is a required argument to the [steps.geom.TmPatch](API_geom.rst#steps.geom.TmPatch) constructor. If the patch is connected to two compartments\n",
    "one must be labelled the 'inner' compartment (constructor argument `icomp`) and one the 'outer' compartment (constructor argument `ocomp`) and the object construction might look something like"
   ]
  },
  {
   "cell_type": "code",
   "execution_count": 8,
   "metadata": {
    "collapsed": true
   },
   "outputs": [],
   "source": [
    "# ER_membrane = stetmesh.TmPatch('ER_membrane', mesh, Er_memb_tris, icomp = endoplasmic_reticulum, ocomp = cytosol)"
   ]
  },
  {
   "cell_type": "markdown",
   "metadata": {},
   "source": [
    "Returning to our rather more simple model, next we create two empty NumPy arrays for which we will store, for each triangle in the patch, the radial distance to the centre of the patch and the area of the triangle:"
   ]
  },
  {
   "cell_type": "code",
   "execution_count": 9,
   "metadata": {
    "collapsed": true
   },
   "outputs": [],
   "source": [
    "# Find out how many triangles are in the patch\n",
    "patch_tris_n = len(patch_tris)\n",
    "# Create array to store radial distances\n",
    "trirads = pylab.zeros(patch_tris_n)\n",
    "# Create array to store triangle areas\n",
    "triareas = pylab.zeros(patch_tris_n)"
   ]
  },
  {
   "cell_type": "markdown",
   "metadata": {},
   "source": [
    "To find the radial distances we need a reference central point. Because the mesh is not perfectly regular the triangle that encompasses coordinates x=0.0, y=0.0 will not\n",
    "necessarily be centred exactly on x=0.0 y=0.0, so we will instead define the central point as the barycenter of that triangle. To find this triangle we take advantage of\n",
    "the fact that the triangle is connected to a tetrahedron which is easier to find by coordinates (using function [steps.geom.Tetmesh.findTetByPoint](API_geom.rst#steps.geom.Tetmesh.findTetByPoint)), and then\n",
    "we need to find the triangle 'neighbours' of that tetrahedron (using function [steps.geom.Tetmesh.getTetTriNeighb](API_geom.rst#steps.geom.Tetmesh.getTetTriNeighb)): the triangle neighbour of the tetrahedron encompassing\n",
    "coordinate x=0.0, y=0.0, z=0.5 (microns) that also belongs to the patch is the triangle that we want."
   ]
  },
  {
   "cell_type": "code",
   "execution_count": 10,
   "metadata": {
    "collapsed": true
   },
   "outputs": [],
   "source": [
    "# Find the central triangle\n",
    "# First find the tetrahedron connected to the central triangle\n",
    "ctetidx = mesh.findTetByPoint([0.0, 0.0, 0.5e-6])\n",
    "# Find this tetrahedron's neighbours\n",
    "ctet_trineighbs = mesh.getTetTriNeighb(ctetidx)\n",
    "# Find which of these (4) neighbours is in the patch\n",
    "ctri_idx=-1\n",
    "for t in ctet_trineighbs:\n",
    "    if t in patch_tris:\n",
    "        ctri_idx = t"
   ]
  },
  {
   "cell_type": "markdown",
   "metadata": {},
   "source": [
    "Then we record for each triangle by position in our ``patch_tris`` list, the distance of the barycentre of the triangle to the centre\n",
    "point (in microns) using function [steps.geom.Tetmesh.getTriBarycenter](API_geom.rst#steps.geom.Tetmesh.getTriBarycenter), and the triangle area (in square microns) using function [steps.geom.Tetmesh.getTriArea](API_geom.rst#steps.geom.Tetmesh.getTriArea).\n",
    "We will record this information in the arrays `trirads` and `triareas` respectively:"
   ]
  },
  {
   "cell_type": "code",
   "execution_count": 11,
   "metadata": {
    "collapsed": true
   },
   "outputs": [],
   "source": [
    "# Now find the distance of the centre of each tri to the central tri\n",
    "cbaryc = mesh.getTriBarycenter(ctri_idx)\n",
    "for i in range(patch_tris_n):\n",
    "    baryc = mesh.getTriBarycenter(patch_tris[i])\n",
    "    r2 = math.pow((baryc[0]-cbaryc[0]),2) + \\\n",
    "            math.pow((baryc[1]-cbaryc[1]),2) + \\\n",
    "                math.pow((baryc[2]-cbaryc[2]),2)\n",
    "    r = math.sqrt(r2)\n",
    "    # Convert to microns\n",
    "    trirads[i] = r*1.0e6\n",
    "    triareas[i] = mesh.getTriArea(patch_tris[i])*1.0e12"
   ]
  },
  {
   "cell_type": "markdown",
   "metadata": {},
   "source": [
    "Finally, we return the important information found within this function.\n",
    "\n",
    "\n",
    "Our complete geometry function is:"
   ]
  },
  {
   "cell_type": "code",
   "execution_count": 12,
   "metadata": {
    "collapsed": true
   },
   "outputs": [],
   "source": [
    "def gen_geom():\n",
    "    mesh = smeshio.loadMesh('meshes/coin_10r_1h_13861')[0]\n",
    "\n",
    "    ntets = mesh.countTets()\n",
    "    comp = stetmesh.TmComp('cyto', mesh, range(ntets))\n",
    "\n",
    "    alltris = mesh.getSurfTris()\n",
    "    # Sort patch triangles as those of positive z\n",
    "    patch_tris = []\n",
    "    for t in alltris:\n",
    "        vert0, vert1, vert2 = mesh.getTri(t)\n",
    "        if (mesh.getVertex(vert0)[2] > 0.0 and mesh.getVertex(vert1)[2] > 0.0 and mesh.getVertex(vert2)[2] > 0.0):\n",
    "            patch_tris.append(t)\n",
    "\n",
    "    # Create the patch\n",
    "    patch = stetmesh.TmPatch('patch', mesh, patch_tris, icomp = comp)\n",
    "    patch.addSurfsys('ssys')\n",
    "    patch_tris_n = len(patch_tris)\n",
    "\n",
    "    trirads = pylab.zeros(patch_tris_n)\n",
    "    triareas = pylab.zeros(patch_tris_n)\n",
    "\n",
    "    # Find the central tri\n",
    "    ctetidx = mesh.findTetByPoint([0.0, 0.0, 0.5e-6])\n",
    "    ctet_trineighbs = mesh.getTetTriNeighb(ctetidx)\n",
    "    ctri_idx=-1\n",
    "    for t in ctet_trineighbs:\n",
    "        if t in patch_tris:\n",
    "            ctri_idx = t\n",
    "\n",
    "    # Now find the distance of the centre of each tri to the central tri\n",
    "    cbaryc = mesh.getTriBarycenter(ctri_idx)\n",
    "    for i in range(patch_tris_n):\n",
    "        baryc = mesh.getTriBarycenter(patch_tris[i])\n",
    "        r2 = math.pow((baryc[0]-cbaryc[0]),2) + math.pow((baryc[1]-cbaryc[1]),2) + math.pow((baryc[2]-cbaryc[2]),2)\n",
    "        r = math.sqrt(r2)\n",
    "        # Convert to microns and square microns\n",
    "        trirads[i] = r*1.0e6\n",
    "        triareas[i] = mesh.getTriArea(patch_tris[i])*1e12\n",
    "\n",
    "    return mesh, patch_tris, patch_tris_n, ctri_idx, trirads, triareas"
   ]
  },
  {
   "cell_type": "markdown",
   "metadata": {},
   "source": [
    "### Simulation with ``Tetexact``\n",
    "\n",
    "We're now ready to run the simulation and collect data. First we call the two functions ``gen_model`` and ``gen_geom`` and store references to the important objects\n",
    "they return, the [steps.model.Model](API_model.rst#steps.model.Model) and [steps.geom.Tetmesh](API_geom.rst#steps.geom.Tetmesh) container objects, and the patch triangles information (being consistent with their\n",
    "names in the ``gen_geom`` function to minimise confusion):\n"
   ]
  },
  {
   "cell_type": "code",
   "execution_count": 13,
   "metadata": {
    "collapsed": true
   },
   "outputs": [],
   "source": [
    "model = gen_model()\n",
    "tmgeom, patch_tris, patch_tris_n, ctri_idx, trirads, triareas = gen_geom()"
   ]
  },
  {
   "cell_type": "markdown",
   "metadata": {},
   "source": [
    "We then need to create our random number generator object, as usual for stochastic simulations:\n"
   ]
  },
  {
   "cell_type": "code",
   "execution_count": 14,
   "metadata": {
    "collapsed": true
   },
   "outputs": [],
   "source": [
    "rng = srng.create('mt19937', 512)\n",
    "rng.initialize(234)"
   ]
  },
  {
   "cell_type": "markdown",
   "metadata": {},
   "source": [
    "And then we can create a `Tetexact` spatial stochastic solver object:\n"
   ]
  },
  {
   "cell_type": "code",
   "execution_count": 15,
   "metadata": {
    "collapsed": true
   },
   "outputs": [],
   "source": [
    "# Create solver object\n",
    "sim = solvmod.Tetexact(model, tmgeom, rng)"
   ]
  },
  {
   "cell_type": "markdown",
   "metadata": {},
   "source": [
    "Finally before running a simulation we, similar to previous chapters, create arrays to help run the simulation and to record data:\n"
   ]
  },
  {
   "cell_type": "code",
   "execution_count": 16,
   "metadata": {
    "collapsed": true
   },
   "outputs": [],
   "source": [
    "tpnts = pylab.arange(0.0, INT, DT)\n",
    "ntpnts = tpnts.shape[0]\n",
    "# Create the  data structure: iterations x time points x tri samples\n",
    "res = pylab.zeros((NITER, ntpnts, patch_tris_n))"
   ]
  },
  {
   "cell_type": "markdown",
   "metadata": {},
   "source": [
    "And we are ready to run the simulation. This will be very similar to the simulation loop in [Simulating Diffusion in Volumes](diffusion.ipynb#diffusion), but instead of injecting and recording molecules from\n",
    "tetrahedrons, we inject and record from patch triangles with solver methods [steps.solver.Tetexact.setTriCount](API_solver.rst#steps.solver.Tetexact.setTriCount) and [steps.solver.Tetexact.getTriCount](API_solver.rst#steps.solver.Tetexact.getTriCount).\n",
    "We will inject all molecules in the central triangle (to approximate a point source) and record molecules from each triangle in the patch. We'll use the `triareas` data\n",
    "to record, in the `res` results array, molecule number per square micron. The complete simulation loop is:\n"
   ]
  },
  {
   "cell_type": "code",
   "execution_count": 17,
   "metadata": {},
   "outputs": [
    {
     "name": "stdout",
     "output_type": "stream",
     "text": [
      "Running iteration  0\n",
      "Running iteration  10\n",
      "Running iteration  20\n",
      "Running iteration  30\n",
      "Running iteration  40\n",
      "Running iteration  50\n",
      "Running iteration  60\n",
      "Running iteration  70\n",
      "Running iteration  80\n",
      "Running iteration  90\n"
     ]
    }
   ],
   "source": [
    "from __future__ import print_function # for backward compatibility with Py2\n",
    "\n",
    "\n",
    "# Run NITER number of iterations:\n",
    "for j in range(NITER):\n",
    "    if not j%10: print(\"Running iteration \", j)\n",
    "    sim.reset()\n",
    "    sim.setTriCount(ctri_idx, 'A', NINJECT)\n",
    "    for i in range(ntpnts):\n",
    "        sim.run(tpnts[i])\n",
    "        for k in range(patch_tris_n):\n",
    "            res[j, i, k] = sim.getTriCount(patch_tris[k], 'A')/triareas[k]"
   ]
  },
  {
   "cell_type": "markdown",
   "metadata": {},
   "source": [
    "To look at the mean molecule density over all iterations for ease of comparison to the analytical solution we use the ``numpy.mean`` function as in\n",
    "previous chapters:\n"
   ]
  },
  {
   "cell_type": "code",
   "execution_count": 18,
   "metadata": {
    "collapsed": true
   },
   "outputs": [],
   "source": [
    "res_mean = pylab.mean(res, axis = 0)"
   ]
  },
  {
   "cell_type": "markdown",
   "metadata": {},
   "source": [
    "### Plotting simulation output\n",
    "\n",
    "As we are quite familiar with plotting STEPS output now we won't dwell on the details. As in [Simulating Diffusion in Volumes](diffusion.ipynb) we wish to also plot the analytical solution alongside our\n",
    "STEPS output for comparison, where the solution is of a similar form to that for unbounded volume diffusion. We create two functions\n",
    "to take care of all our plotting needs. The first function plots the results:\n"
   ]
  },
  {
   "cell_type": "code",
   "execution_count": 19,
   "metadata": {
    "collapsed": true
   },
   "outputs": [],
   "source": [
    "def plotres(res_mean, tidx):\n",
    "    if (tidx >= INT/DT):\n",
    "        print(\"Time index is out of range.\")\n",
    "        return\n",
    "    pylab.scatter(trirads, res_mean[tidx], s=10)\n",
    "    pylab.xlabel('Radial distance ($\\mu$m)')\n",
    "    pylab.ylabel('Concentration (/$\\mu$m$^2$)')\n",
    "    t = tpnts[tidx]\n",
    "    pylab.title('Unbounded surface diffusion. Time: ' + str(t) + 's')\n",
    "    plotanlyt(t)\n",
    "    pylab.xlim(0,10)\n",
    "    pylab.ylim(0)\n",
    "    pylab.show()"
   ]
  },
  {
   "cell_type": "markdown",
   "metadata": {},
   "source": [
    "And the second function (which is called within the `plotres` function) plots the analytical solution, this time as number of molecules per square micron:\n"
   ]
  },
  {
   "cell_type": "code",
   "execution_count": 20,
   "metadata": {
    "collapsed": true
   },
   "outputs": [],
   "source": [
    "def plotanlyt(t):\n",
    "    segs = 100\n",
    "    anlytconc = pylab.zeros((segs))\n",
    "    radialds = pylab.zeros((segs))\n",
    "    maxrad = 0.0\n",
    "    for i in trirads:\n",
    "            if (i > maxrad): maxrad = i\n",
    "    maxrad *= 1e-6\n",
    "    intervals = maxrad/segs\n",
    "    rad = 0.0\n",
    "    for i in range((segs)):\n",
    "            anlytconc[i]=(NINJECT/(4*math.pi*DCST*t))* \\\n",
    "        (math.exp((-1.0*(rad*rad))/(4*DCST*t)))*1e-12\n",
    "            radialds[i] = rad*1e6\n",
    "            rad += intervals\n",
    "    pylab.plot(radialds, anlytconc, color = 'red')"
   ]
  },
  {
   "cell_type": "markdown",
   "metadata": {},
   "source": [
    "And that is everything that we need to run our surface diffusion simulation, plot the results and compare to the analytical solution. After running the simulation simply\n",
    "by importing this module, we can then plot data at any of the \"time points\" with a function call such as:\n"
   ]
  },
  {
   "cell_type": "code",
   "execution_count": 21,
   "metadata": {},
   "outputs": [
    {
     "data": {
      "image/png": "[encoded data removed]",
      "text/plain": [
       "<matplotlib.figure.Figure at 0x7f9ce6aac0d0>"
      ]
     },
     "metadata": {},
     "output_type": "display_data"
    }
   ],
   "source": [
    "pylab.figure(figsize=(10,7))\n",
    "plotres(res_mean, 20)"
   ]
  },
  {
   "cell_type": "markdown",
   "metadata": {},
   "source": [
    "Here we plotted the mean surface density of diffusing species `A` in individualtriangles in STEPS (black dots) is plotted with the analytical solution from the above equation (red).There is a small discrepancy near the centre of the surface due to the injection of molecules into a finite area inSTEPS whereas a point source is assumed for the analytical solution. STEPS output shows some noise due to the effects of stochastic surface diffusion."
   ]
  },
  {
   "cell_type": "markdown",
   "metadata": {},
   "source": [
    "### Simulation with ``TetODE``\n",
    "\n",
    "Another option for spatial simulation is to use the deterministic solver 'TetODE' ([steps.solver.TetODE](API_solver.rst#steps.solver.TetODE)). TetODE shares many similarities with Tetexact\n",
    "in terms of model and geometry construction operating on the same tetrahedral meshes, but solutions are deterministic. TetODE uses\n",
    "CVODE (http://computation.llnl.gov/casc/sundials/description/description.html) for solutions. Although solutions are therefore\n",
    "very different between solver Tetexact and TetODE, in terms of simulation construction there are only a few implementation differences.\n",
    "Therefore, we can use almost the exact same code as already introduced to run the deterministic unbounded\n",
    "surface diffusion model, with a few changes highlighted below.\n",
    "\n",
    "\n",
    "Firstly, since TetODE solutions are deterministic, we do not need to run more than one iteration so we set\n"
   ]
  },
  {
   "cell_type": "code",
   "execution_count": 22,
   "metadata": {
    "collapsed": true
   },
   "outputs": [],
   "source": [
    "NITER = 1 "
   ]
  },
  {
   "cell_type": "markdown",
   "metadata": {},
   "source": [
    "Nothing needs to change for the model and geometry descriptions, and we can go on to creating the [steps.solver.TetODE](API_solver.rst#steps.solver.TetODE) solver\n",
    "object. As a deterministic solver, TetODE does not require a random number generator so that does not need to be created and can be omitted\n",
    "from the object construction step.\n"
   ]
  },
  {
   "cell_type": "markdown",
   "metadata": {},
   "source": [
    "Finally, the `reset` solver function is not available for TetODE (in part because only one simulation iteration need be run per model), so we remove the call to `sim.reset()`.\n",
    "\n",
    "from our simulation loop. Theses changes are all we minimally need to do to switch this simulation to deterministic mode using solver TetODE. However,\n",
    "there are two important additions to this solver, the functions [steps.solver.TetODE.setTolerances](API_solver.rst#steps.solver.TetODE.setTolerances) and [steps.solver.TetODE.setMaxNumSteps](API_solver.rst#steps.solver.TetODE.setMaxNumSteps).\n",
    "To understand what these functions do requires a little background of how CVODE works. Although there will only be a brief explanation here, thorough descriptions\n",
    "are available in CVODE documentation (http://computation.llnl.gov/casc/sundials/documentation/cv_guide.pdf).\n",
    "\n",
    "Solving STEPS models in CVODE\n",
    "requires supplying information of all the variables in a STEPS simulation at any time as a state vector to the CVODE solver. The variables in STEPS\n",
    "are the molecular species, which have unique populations in individual mesh elements (tetrahedrons and triangles) meaning that\n",
    "the state vector can be rather large (number_volume_specs*number_tetrahedrons + number_surface_specs*number_triangles). STEPS\n",
    "must also supply a function that describes the rate of change of each of these variables with time depending on other variables in the system. CVODE then finds\n",
    "approximate solutions (here STEPS choses the recommended Adams-Moulton formulas with functional iteration) when the system\n",
    "advances in time.\n",
    "\n",
    "To do this it takes a number of 'steps', each time estimating the local error and comparing to tolerance conditions: if the\n",
    "test fails, step size is reduced, and this is repeated until tolerance conditions are met. This means that there is a tradeoff between accuracy\n",
    "and simulation speed- with a high tolerance, steps sizes will be large and few steps will have to be taken to advance the simulation some amount of time\n",
    "though accuracy will be low, with low tolerance, steps sizes will be small so a large number of steps will be taken to advance the simulation although\n",
    "accuracy will be high. Therefore, the tolerance is an important consideration both for accuracy and efficiency.\n",
    "\n",
    "STEPS users can control the\n",
    "tolerances with function  [steps.solver.TetODE.setTolerances](API_solver.rst#steps.solver.TetODE.setTolerances). Two different types of tolerance are specified: relative tolerance and absolute\n",
    "tolerance, and in STEPS both are scalars. Relative tolerance controls relative errors so that e.g. $10^{-3}$  means that errors are controlled to\n",
    "0.1% (and it is not recommended to go any higher than that). Absolute tolerances can be useful when any components of the vector approach very small numbers\n",
    "when relative error control becomes meaningless. The absolute values in the internal state vectors within TetODE are the (fractional) number\n",
    "of molecules per tetrahedron or triangle, so if a user specifies an absolute tolerance of $10^{-3}$  it means that populations\n",
    "within tetrahedrons and triangles will be accurate to within 1/1000th of a molecule! In TetODE only one value each for absolute tolerance and relative\n",
    "tolerance can be specified, and will be applied to all species in all locations in the system. The default value for both absolute tolerance and relative\n",
    "tolerance is $10^{-3}$ .\n",
    "\n",
    "We set tolerances with a call to function [steps.solver.TetODE.setTolerances](API_solver.rst#steps.solver.TetODE.setTolerances): the first function argument is\n",
    "absolute tolerance, the second is relative tolerance. In this example we set an absolute tolerance of  $10^{-3}$  and relative tolerance of $10^{-4}$  with `sim.setTolerances(1e-3, 1e-4)`."
   ]
  },
  {
   "cell_type": "markdown",
   "metadata": {},
   "source": [
    "Closely related to this is the function [steps.solver.TetODE.setMaxNumSteps](API_solver.rst#steps.solver.TetODE.setMaxNumSteps), which is a kind of safety device to stop the simulation if advancement is\n",
    "unacceptably slow. If tolerances are too low, or simulation time step too large, then a large number of steps in CVODE may be taken\n",
    "before it reaches the requested output time. For example, if we are at time 0 seconds and we ask CVODE to advance the simulation 1 second with function call  `sim.run(1)`."
   ]
  },
  {
   "cell_type": "markdown",
   "metadata": {},
   "source": [
    "and CVODE finds acceptable accuracy with a step of approximately 10ms, then roughly 100 steps will be taken until it reaches 1 second, which is generally OK. If,\n",
    "however, tolerances have been set too low and acceptable accuracy comes at a step of 1µs in CVODE, then a million steps would have to be taken to get to\n",
    "1 second, and here we probably wouldn't want to go ahead with that situation, adjusting tolerances to give a larger CVODE step instead. And so we use function\n",
    "[steps.solver.TetODE.setMaxNumSteps](API_solver.rst#steps.solver.TetODE.setMaxNumSteps) to tell CVODE what is the maximum number of steps we will accept each time it tries to advance the simulation,\n",
    "exiting if it ever reaches the upper limit. The default value is rather large at 10000. We can set a lower limit for this simulation, e.g. 50, with `sim.setMaxNumSteps(50)`.\n"
   ]
  },
  {
   "cell_type": "markdown",
   "metadata": {},
   "source": [
    "If we tried to set a maximum number of steps to 10 instead, with these tolerance levels this simulation would fail indicating that somewhere\n",
    "between 10 and 100 steps are taken each time CVODE advances this simulation (i.e. each time a call is made to [steps.solver.TetODE.run](API_solver.rst#steps.solver.TetODE.run)).\n"
   ]
  },
  {
   "cell_type": "markdown",
   "metadata": {},
   "source": [
    "We can now run the simulation and plot the results."
   ]
  },
  {
   "cell_type": "code",
   "execution_count": 23,
   "metadata": {},
   "outputs": [
    {
     "data": {
      "image/png": "[encoded data removed]",
      "text/plain": [
       "<matplotlib.figure.Figure at 0x7f9ce25a7950>"
      ]
     },
     "metadata": {},
     "output_type": "display_data"
    }
   ],
   "source": [
    "# Create solver object\n",
    "sim = solvmod.TetODE(model, tmgeom)\n",
    "sim.setTolerances(1e-3, 1e-4)\n",
    "sim.setMaxNumSteps(50)\n",
    "\n",
    "tpnts = pylab.arange(0.0, INT, DT)\n",
    "ntpnts = tpnts.shape[0]\n",
    "\n",
    "# Create the  data structure: iterations x time points x tri samples\n",
    "res = pylab.zeros((NITER, ntpnts, patch_tris_n))\n",
    "\n",
    "# Run NITER number of iterations:\n",
    "for j in range(NITER):\n",
    "    sim.setTriCount(ctri_idx, 'A', NINJECT)\n",
    "    for i in range(ntpnts):\n",
    "        sim.run(tpnts[i])\n",
    "        for k in range(patch_tris_n):\n",
    "            res[j, i, k] = sim.getTriCount(patch_tris[k], 'A')/ \\\n",
    "                            triareas[k]\n",
    "\n",
    "res_mean = pylab.mean(res, axis = 0)\n",
    "\n",
    "pylab.figure(figsize=(10,7))\n",
    "plotres(res_mean, 20)"
   ]
  }
 ],
 "metadata": {
  "kernelspec": {
   "display_name": "Python 3",
   "language": "python",
   "name": "python3"
  },
  "language_info": {
   "codemirror_mode": {
    "name": "ipython",
    "version": 3
   },
   "file_extension": ".py",
   "mimetype": "text/x-python",
   "name": "python",
   "nbconvert_exporter": "python",
   "pygments_lexer": "ipython3",
   "version": "3.6.4"
  }
 },
 "nbformat": 4,
 "nbformat_minor": 2
}
