{
 "cells": [
  {
   "cell_type": "markdown",
   "metadata": {},
   "source": [
    "# Surface Diffusion Boundary\n",
    "\n",
    "The simulation script described in this chapter is available at  [STEPS_Example repository](https://github.com/CNS-OIST/STEPS_Example/blob/master/user_manual/source/surface_diffusion_boundary.ipynb).\n",
    "\n",
    "Just as it is sometimes useful to isolate some chemical species within certain volume compartments and allow others to diffuse to\n",
    "neighbouring compartments, as described in [Diffusion Boundary](diffusion_boundary.ipynb), it is also sometime useful to allow some chemical species to diffuse between\n",
    "neighbouring surface “Patches” whilst others remain isolated within one Patch. Analogously to diffusion boundaries between neighbouring compartments,\n",
    "“Surface diffusion boundaries” allow surface diffusion between different patches that are connected through at least one pair of neighbouring\n",
    "triangles in a mesh-based simulation.\n",
    "\n",
    "Since many components of this surface diffusion boundary example script have already been introduced in previous chapters and the model is based on the surface diffusion model of of [Surface Diffusion](surface_diffusion.ipynb), this chapter will be fairly brief, focusing only on the new concepts related\n",
    "solely to surface diffusion boundaries.\n",
    "\n",
    "Solvers [steps.solver.Tetexact](API_solver.rst#steps.solver.Tetexact) and [steps.mpi.solver.TetOpSplit](API_mpi.rst#steps.mpi.solver.TetOpSplit) currently support Surface Diffusion Boundaries,\n",
    "but this chapter will only show an example with the Tetexact solver. Since the solvers share an API, use is functionally equivalent in TetOpSplit.\n",
    "\n",
    "\n",
    "## Modelling solution\n",
    "\n",
    "### Organisation of code\n",
    "\n",
    "As for previous models we will create a Python script to run the surface diffusion model.\n",
    "\n",
    "As usual, at first we import STEPS modules and other modules `pylab` and `math`:\n"
   ]
  },
  {
   "cell_type": "code",
   "execution_count": 1,
   "metadata": {
    "collapsed": true
   },
   "outputs": [],
   "source": [
    "import steps.model as smodel\n",
    "import steps.geom as stetmesh\n",
    "import steps.utilities.meshio as smeshio\n",
    "import steps.rng as srng\n",
    "import steps.solver as solvmod\n",
    "import pylab\n",
    "import math"
   ]
  },
  {
   "cell_type": "markdown",
   "metadata": {},
   "source": [
    "We set some simulation constants:\n"
   ]
  },
  {
   "cell_type": "code",
   "execution_count": 2,
   "metadata": {
    "collapsed": true
   },
   "outputs": [],
   "source": [
    "# Number of iterations; plotting dt; sim endtime:\n",
    "NITER = 10\n",
    "\n",
    "# The data collection time increment (s)\n",
    "DT = 1.0\n",
    "\n",
    "# The simulation endtime (s)\n",
    "INT = 21.0\n",
    "\n",
    "# Number of molecules injected in centre\n",
    "NINJECT = 1000\n",
    "\n",
    "# The diffusion constant for our diffusing species (m^2/s)\n",
    "DCST = 0.08e-12"
   ]
  },
  {
   "cell_type": "markdown",
   "metadata": {},
   "source": [
    "### Model specification\n",
    "\n",
    "We create the biochemical model, equivalent to the surface diffusion model in [Surface Diffusion](surface_diffusion.ipynb) where we create\n",
    "one species `X` and one surface diffusion rule:\n"
   ]
  },
  {
   "cell_type": "code",
   "execution_count": 3,
   "metadata": {
    "collapsed": true
   },
   "outputs": [],
   "source": [
    "def gen_model():\n",
    "    mdl = smodel.Model()\n",
    "    X = smodel.Spec('X', mdl)\n",
    "    ssys = smodel.Surfsys('ssys', mdl)\n",
    "    diff_X = smodel.Diff('diffX', ssys, X,  DCST)\n",
    "    return mdl"
   ]
  },
  {
   "cell_type": "markdown",
   "metadata": {},
   "source": [
    "### Geometry specification\n",
    "\n",
    "The geometry for the simulation is the same flat disk-shaped tetrahedral mesh of radius 10 microns as in\n",
    "the [Surface Diffusion](surface_diffusion.ipynb) example. This time, however, the circular surface will be separated into two Patches on the x=0 axis\n",
    "which will be connected by a Surface Diffusion Boundary, as we will see later.\n",
    "\n",
    "![The mesh used for the surface diffusion boundary simulation](images/coin_sdb.png)\n",
    "\n",
    "This is the disk-shaped mesh of radius 10 microns used for the simulation in this chapter. The region in red is ’Patch A’ and blue is ‘Patch B’. We will create a Surface Diffusion Boundary to connect these two Patches. \n",
    "\n",
    "The first step is to import the tetrahedral mesh."
   ]
  },
  {
   "cell_type": "code",
   "execution_count": 4,
   "metadata": {
    "collapsed": true
   },
   "outputs": [],
   "source": [
    "mesh = smeshio.loadMesh('meshes/coin_10r_1h_13861')[0]"
   ]
  },
  {
   "cell_type": "markdown",
   "metadata": {},
   "source": [
    "Then we create a compartment comprising all mesh tetrahedrons:\n"
   ]
  },
  {
   "cell_type": "code",
   "execution_count": 5,
   "metadata": {
    "collapsed": true
   },
   "outputs": [],
   "source": [
    "ntets = mesh.countTets()\n",
    "comp = stetmesh.TmComp('cyto', mesh, range(ntets))"
   ]
  },
  {
   "cell_type": "markdown",
   "metadata": {},
   "source": [
    "We go on to creating the surface [steps.geom.TmPatch](API_geom.rst#steps.geom.TmPatch) objects for this mesh-based simulation,\n",
    "but, differently from the [Surface Diffusion](surface_diffusion.ipynb) example, we separate the surface into two Patches. The centre of the\n",
    "mesh is at the origin (x=0, y=0, z=0) and so to split evenly in this simple example one Patch is comprised of triangles with +ve x barycentre\n",
    "and the other with -ve x barycentres.\n",
    "\n",
    "In order to create a Surface Diffusion Boundary we need to find information about the triangle ‘bars’ here. In STEPS, the\n",
    "edges created by joining two vertices of any triangle are termed ‘bars’, and we can use\n",
    "function [steps.geom.Tetmesh.getTriBars](API_geom.rst#steps.geom.Tetmesh.getTriBars) to get that information. In fact in this example we already\n",
    "have the vertex information so the call to [steps.geom.Tetmesh.getTriBars](API_geom.rst#steps.geom.Tetmesh.getTriBars) is not strictly necessary, but we demonstrate its use here:\n"
   ]
  },
  {
   "cell_type": "code",
   "execution_count": 6,
   "metadata": {
    "collapsed": true
   },
   "outputs": [],
   "source": [
    "alltris = mesh.getSurfTris()\n",
    "\n",
    "# Sort patch triangles as those of positive z: A +ve x, B -ve x\n",
    "patchA_tris = []\n",
    "patchB_tris = []\n",
    "patchA_bars = set()\n",
    "patchB_bars = set()\n",
    "\n",
    "for t in alltris:\n",
    "    vert0, vert1, vert2 = mesh.getTri(t)\n",
    "    if (mesh.getVertex(vert0)[2] > 0.0 \\\n",
    "        and mesh.getVertex(vert1)[2] > 0.0 \\\n",
    "        and mesh.getVertex(vert2)[2] > 0.0):\n",
    "        if mesh.getTriBarycenter(t)[0] > 0.0:\n",
    "            patchA_tris.append(t)\n",
    "            bar = mesh.getTriBars(t)\n",
    "            patchA_bars.add(bar[0])\n",
    "            patchA_bars.add(bar[1])\n",
    "            patchA_bars.add(bar[2])\n",
    "        else:\n",
    "            patchB_tris.append(t)\n",
    "            bar = mesh.getTriBars(t)\n",
    "            patchB_bars.add(bar[0])\n",
    "            patchB_bars.add(bar[1])\n",
    "            patchB_bars.add(bar[2])"
   ]
  },
  {
   "cell_type": "markdown",
   "metadata": {},
   "source": [
    "We create the two [steps.geom.TmPatch](API_geom.rst#steps.geom.TmPatch) objects. We call the Patch with +ve x (red in the figure above) `'PatchA'`\n",
    "and the Patch with -ve x (blue in in the figure above) `'PatchB'`. Both share the same inner compartment we created earlier:\n"
   ]
  },
  {
   "cell_type": "code",
   "execution_count": 7,
   "metadata": {
    "collapsed": true
   },
   "outputs": [],
   "source": [
    "# Create the patch\n",
    "patchA = stetmesh.TmPatch('patchA', mesh, patchA_tris, icomp=comp)\n",
    "patchA.addSurfsys('ssys')\n",
    "patchB = stetmesh.TmPatch('patchB', mesh, patchB_tris, icomp=comp)\n",
    "patchB.addSurfsys('ssys')"
   ]
  },
  {
   "cell_type": "markdown",
   "metadata": {},
   "source": [
    "Now we can create the [steps.geom.SDiffBoundary](API_geom.rst#steps.geom.SDiffBoundary) object. Analogously to the Diffusion Boundary between Compartments\n",
    "which is made up of connecting triangles between those compartments, the Surface Diffusion Boundary is comprised\n",
    "of a collection of ‘bars’ that connect two distinct Patches. The first thing, then, is to find that set of bars as the\n",
    "intersection between all bars from `PatchA` and `PatchB`:\n"
   ]
  },
  {
   "cell_type": "code",
   "execution_count": 8,
   "metadata": {
    "collapsed": true
   },
   "outputs": [],
   "source": [
    "# Find the set of bars that connect the two patches as the intersecting bars of PatchA and PatchB\n",
    "barsDB = patchA_bars.intersection(patchB_bars)\n",
    "barsDB = list(barsDB)"
   ]
  },
  {
   "cell_type": "markdown",
   "metadata": {},
   "source": [
    "So the list `barsDB` contains the indices of the common bars to both patchA and patchB, which are the bars\n",
    "connecting the two Patches and will form the Surface Diffusion Boundary.\n",
    "\n",
    "One more important point about Surface Diffusion Boundary creation is that the constructor requires a sequence containing\n",
    "references to the two [steps.geom.TmPatch](API_geom.rst#steps.geom.TmPatch) objects that it connects, in this case `patchA` and `patchB`. The reason\n",
    "for this is that any given bar within the Surface Diffusion Boundary can be connected to any number of triangles (not just 2) which\n",
    "can belong to more than 2 Patches, and providing this information to the Surface Diffusion Boundary constructor avoids\n",
    "ambiguity. In practice, many bars set up in such a way will only be connected to 2 triangles that are contained within\n",
    "surface Patches but being explicit here is in the setup is good practice and aids STEPS in setting up the model correctly.\n",
    "\n",
    "So we can go ahead and create the Surface Diffusion Boundary. Arguments to the constructor are, in order: a string identifier, a\n",
    "reference to the parent [steps.geom.Tetmesh](API_geom.rst#steps.geom.Tetmesh) parent object, a reference to the sequence of bars that make up the Surface\n",
    "Diffusion Boundary, and a sequence of length 2 containing references to the 2 connected Patch objects:\n"
   ]
  },
  {
   "cell_type": "code",
   "execution_count": 9,
   "metadata": {
    "collapsed": true
   },
   "outputs": [],
   "source": [
    "# Create the surface diffusion boundary\n",
    "diffb = stetmesh.SDiffBoundary('sdiffb', mesh, barsDB, [patchA, patchB])"
   ]
  },
  {
   "cell_type": "markdown",
   "metadata": {},
   "source": [
    "The next part of the code follows similarly to in [Surface Diffusion](surface_diffusion.ipynb) in recording the triangle radii and areas,\n",
    "with the difference that we now separate into patchA and patchB. The triangle radii in patchB will be given negative sign\n",
    "to differentiate from those in patchA:\n"
   ]
  },
  {
   "cell_type": "code",
   "execution_count": 10,
   "metadata": {
    "collapsed": true
   },
   "outputs": [],
   "source": [
    "# Find the central tri\n",
    "ctetidx = mesh.findTetByPoint([0.0, 0.0, 0.5e-6])\n",
    "ctet_trineighbs = mesh.getTetTriNeighb(ctetidx)\n",
    "ctri_idx=-1\n",
    "for t in ctet_trineighbs:\n",
    "    if t in patchA_tris+patchB_tris:\n",
    "        ctri_idx = t \n",
    "cbaryc = mesh.getTriBarycenter(ctri_idx)\n",
    "\n",
    "# Record the tri radii from centre and areas for patchA and patchB\n",
    "trirads_A = pylab.zeros(len(patchA_tris))\n",
    "trirads_B = pylab.zeros(len(patchB_tris))\n",
    "triareas_A = pylab.zeros(len(patchA_tris))\n",
    "triareas_B = pylab.zeros(len(patchB_tris))\n",
    "\n",
    "for i in range(len(patchA_tris)):\n",
    "    baryc = mesh.getTriBarycenter(patchA_tris[i])\n",
    "    r2 = math.pow((baryc[0]-cbaryc[0]),2) + \\\n",
    "            math.pow((baryc[1]-cbaryc[1]),2) + \\\n",
    "                math.pow((baryc[2]-cbaryc[2]),2)\n",
    "    r = math.sqrt(r2)\n",
    "    # Convert to microns\n",
    "    trirads_A[i] = r*1.0e6\n",
    "    triareas_A[i] = mesh.getTriArea(patchA_tris[i])*1.0e12\n",
    "\n",
    "for i in range(len(patchB_tris)):\n",
    "    baryc = mesh.getTriBarycenter(patchB_tris[i])\n",
    "    r2 = math.pow((baryc[0]-cbaryc[0]),2) + \\\n",
    "            math.pow((baryc[1]-cbaryc[1]),2) + \\\n",
    "                math.pow((baryc[2]-cbaryc[2]),2)\n",
    "    r = math.sqrt(r2)\n",
    "    # Convert to microns\n",
    "    trirads_B[i] = -r*1.0e6\n",
    "    triareas_B[i] = mesh.getTriArea(patchB_tris[i])*1.0e12"
   ]
  },
  {
   "cell_type": "markdown",
   "metadata": {},
   "source": [
    "### Simulation with ``Tetexact``\n",
    "\n",
    "We're now ready to run the simulation and collect data. As usual we require a reference to a [steps.model.Model](API_model.rst#steps.model.Model)\n",
    "object, which we retrieve by a call to function ``gen_model``, and a [steps.geom.Tetmesh](API_geom.rst#steps.geom.Tetmesh) objects, which we have already\n",
    "created and store in reference `mesh`. Finally we need a random number generator and we can create\n",
    "our [steps.solver.Tetexact](API_solver.rst#steps.solver.Tetexact) solver object:\n"
   ]
  },
  {
   "cell_type": "code",
   "execution_count": 11,
   "metadata": {
    "collapsed": true
   },
   "outputs": [],
   "source": [
    "# Create the biochemical model\n",
    "model = gen_model()\n",
    "\n",
    "# Create rnadom number generator object\n",
    "rng = srng.create('mt19937', 512)\n",
    "rng.initialize(234)\n",
    "\n",
    "# Create solver object\n",
    "sim = solvmod.Tetexact(model, mesh, rng)"
   ]
  },
  {
   "cell_type": "markdown",
   "metadata": {},
   "source": [
    "We, similar to previous chapters, create arrays to help run the simulation and to record data, separated into patchA and patchB:\n"
   ]
  },
  {
   "cell_type": "code",
   "execution_count": 12,
   "metadata": {
    "collapsed": true
   },
   "outputs": [],
   "source": [
    "# Create the simulation data structures\n",
    "tpnts = pylab.arange(0.0, INT, DT)\n",
    "ntpnts = tpnts.shape[0]\n",
    "res_A = pylab.zeros((NITER, ntpnts, len(patchA_tris)))\n",
    "res_B = pylab.zeros((NITER, ntpnts, len(patchB_tris)))"
   ]
  },
  {
   "cell_type": "markdown",
   "metadata": {},
   "source": [
    "And we are ready to run the simulation. The default behaviour of the Surface Diffusion Boundary is to be inactive, that is to\n",
    "block diffusion of molecules between patchA and patchB in this example. To activate diffusion between patchA and patchB\n",
    "we need to call solver function [steps.solver.Tetexact.setSDiffBoundaryDiffusionActive](API_solver.rst#steps.solver.Tetexact.setSDiffBoundaryDiffusionActive). Use of this function is to\n",
    "identify the Surface Diffusion Boundary and Species by string (in this example ’sdiffb’ and ‘X’ respectively) and to activate\n",
    "with `True` or deactivate with `False`. However, for both Diffusion Boundaries between Compartments and Surface Diffusion\n",
    "Boundaries between Patches, diffusion across a boundary isn’t all or none. Function [steps.solver.Tetexact.setSDiffBoundaryDcst](API_solver.rst#steps.solver.Tetexact.setSDiffBoundaryDcst)\n",
    "allows control of diffusion rate across the boundary (where default is as the coefficient specified within the compartment or patch in model setup).\n",
    "As well as the required 3 arguments to this function specifying the Surface Diffusion Boundary and Species by string and specifying the diffusion\n",
    "coefficient, a final optional argument specifies the direction of diffusion, specified as a string reference to a Patch. E.g. if we call this function with argument string `patchB` then we set the diffusion coefficient of the specified species across the boundary towards patchB. Otherwise the diffusion coefficient would be set in both directions across the Surface Diffusion Boundary to the value specified.\n",
    "\n",
    "We inject all molecules in the central triangle, which happens to be just inside patchA. Then we activate the Surface Diffusion Boundary with\n",
    "function call [steps.solver.Tetexact.setSDiffBoundaryDiffusionActive](API_solver.rst#steps.solver.Tetexact.setSDiffBoundaryDiffusionActive) and slow down diffusion from patchA towards patchB by\n",
    "calling [steps.solver.Tetexact.setSDiffBoundaryDcst](API_solver.rst#steps.solver.Tetexact.setSDiffBoundaryDcst) with the slow diffusion rate of 0.008e-12 (10% of the default diffusion rate). Finally, we run\n",
    "the simulation `NITER` times and record data:\n"
   ]
  },
  {
   "cell_type": "code",
   "execution_count": 13,
   "metadata": {},
   "outputs": [
    {
     "name": "stdout",
     "output_type": "stream",
     "text": [
      "('Running iteration', 0)\n",
      "('Running iteration', 1)\n",
      "('Running iteration', 2)\n",
      "('Running iteration', 3)\n",
      "('Running iteration', 4)\n",
      "('Running iteration', 5)\n",
      "('Running iteration', 6)\n",
      "('Running iteration', 7)\n",
      "('Running iteration', 8)\n",
      "('Running iteration', 9)\n"
     ]
    }
   ],
   "source": [
    "# Run NITER number of iterations:\n",
    "for j in range(NITER):\n",
    "    print(\"Running iteration\", j)\n",
    "    sim.reset()\n",
    "    sim.setTriCount(ctri_idx, 'X', NINJECT)\n",
    "    sim.setSDiffBoundaryDiffusionActive('sdiffb', 'X', True)\n",
    "    sim.setSDiffBoundaryDcst('sdiffb', 'X', 0.008e-12 , 'patchB')\n",
    "\n",
    "    for i in range(ntpnts):\n",
    "        sim.run(tpnts[i])\n",
    "        for k in range(len(patchA_tris)):\n",
    "            res_A[j, i, k] = sim.getTriCount(patchA_tris[k], 'X')/ \\\n",
    "                            triareas_A[k]\n",
    "        for k in range(len(patchB_tris)):\n",
    "            res_B[j, i, k] = sim.getTriCount(patchB_tris[k], 'X')/ \\\n",
    "                            triareas_B[k]"
   ]
  },
  {
   "cell_type": "markdown",
   "metadata": {},
   "source": [
    "Take the mean of the results over the 10 iterations:\n"
   ]
  },
  {
   "cell_type": "code",
   "execution_count": 14,
   "metadata": {
    "collapsed": true
   },
   "outputs": [],
   "source": [
    "res_A_mean = pylab.mean(res_A, axis = 0)\n",
    "res_B_mean = pylab.mean(res_B, axis = 0)"
   ]
  },
  {
   "cell_type": "markdown",
   "metadata": {},
   "source": [
    "### Plotting simulation output\n",
    "\n",
    "Finally we plot the data, plotting data for patchA as positive radii and for patchB as negative radii. This way it is easy to visualise\n",
    "the separate patches and the effect of the diffusion boundary:\n"
   ]
  },
  {
   "cell_type": "code",
   "execution_count": 15,
   "metadata": {
    "collapsed": true
   },
   "outputs": [],
   "source": [
    "def plotres(tidx):\n",
    "    if (tidx >= INT/DT):\n",
    "        print(\"Time index is out of range.\")\n",
    "        return\n",
    "\n",
    "    pylab.plot(trirads_A, res_A_mean[tidx], 'bo', label='patchA')\n",
    "    pylab.plot(trirads_B, res_B_mean[tidx], 'ro',  label='patchB')\n",
    "\n",
    "    pylab.xlabel('Radial distance ($\\mu$m)')\n",
    "    pylab.ylabel('Concentration (/$\\mu$m$^2$)')\n",
    "    t = tpnts[tidx]\n",
    "    pylab.xlim(-10,10)\n",
    "    pylab.ylim(0)\n",
    "    pylab.legend()\n",
    "    pylab.show()"
   ]
  },
  {
   "cell_type": "markdown",
   "metadata": {},
   "source": [
    "And a call to the function with the last ‘timepoint’ of 20, equivalent to 20seconds:\n"
   ]
  },
  {
   "cell_type": "code",
   "execution_count": 16,
   "metadata": {},
   "outputs": [
    {
     "data": {
      "image/png": "[encoded data removed]",
      "text/plain": [
       "<matplotlib.figure.Figure at 0x7f994051d510>"
      ]
     },
     "metadata": {},
     "output_type": "display_data"
    }
   ],
   "source": [
    "pylab.figure(figsize=(14,7))\n",
    "plotres(20)"
   ]
  },
  {
   "cell_type": "markdown",
   "metadata": {},
   "source": [
    "This plot shows a surface diffusion where the low rate of diffusion from patchA towards patchB can clearly\n",
    "be seen by the lower concentration in patchB."
   ]
  }
 ],
 "metadata": {
  "kernelspec": {
   "display_name": "Python 3",
   "language": "python",
   "name": "python3"
  },
  "language_info": {
   "codemirror_mode": {
    "name": "ipython",
    "version": 3
   },
   "file_extension": ".py",
   "mimetype": "text/x-python",
   "name": "python",
   "nbconvert_exporter": "python",
   "pygments_lexer": "ipython3",
   "version": "3.6.4"
  }
 },
 "nbformat": 4,
 "nbformat_minor": 2
}
